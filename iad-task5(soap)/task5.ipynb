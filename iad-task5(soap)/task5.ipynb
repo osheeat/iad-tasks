{
 "cells": [
  {
   "cell_type": "code",
   "execution_count": 3,
   "id": "67027f16-da5f-4545-8d29-2a83be1875b5",
   "metadata": {},
   "outputs": [
    {
     "name": "stdout",
     "output_type": "stream",
     "text": [
      "<?xml version=\"1.0\" encoding=\"utf-8\"?>\n",
      "<soap:Envelope xmlns:soap=\"http://schemas.xmlsoap.org/soap/envelope/\">\n",
      "  <soap:Body>\n",
      "    <m:CapitalCityResponse xmlns:m=\"http://www.oorsprong.org/websamples.countryinfo\">\n",
      "      <m:CapitalCityResult>Moscow</m:CapitalCityResult>\n",
      "    </m:CapitalCityResponse>\n",
      "  </soap:Body>\n",
      "</soap:Envelope>\n",
      "<Response [200]>\n"
     ]
    }
   ],
   "source": [
    "import requests\n",
    "\n",
    "# SOAP URL\n",
    "url = \"http://webservices.oorsprong.org/websamples.countryinfo/CountryInfoService.wso\"\n",
    "\n",
    "# structured XML for a different SOAP request (get capital city by code)\n",
    "payload = \"\"\"<?xml version=\\\"1.0\\\" encoding=\\\"utf-8\\\"?>\n",
    "            <soap:Envelope xmlns:soap=\\\"http://schemas.xmlsoap.org/soap/envelope/\\\">\n",
    "                <soap:Body>\n",
    "                    <CapitalCity xmlns=\\\"http://www.oorsprong.org/websamples.countryinfo\\\">\n",
    "                        <sCountryISOCode>RU</sCountryISOCode>\n",
    "                    </CapitalCity>\n",
    "                </soap:Body>\n",
    "            </soap:Envelope>\"\"\"\n",
    "\n",
    "# headers\n",
    "headers = {\n",
    "    'Content-Type': 'text/xml; charset=utf-8'\n",
    "}\n",
    "\n",
    "# POST request\n",
    "response = requests.request(\"POST\", url, headers=headers, data=payload)\n",
    "\n",
    "# response\n",
    "print(response.text)\n",
    "print(response)\n"
   ]
  },
  {
   "cell_type": "code",
   "execution_count": 1,
   "id": "8fe437d9-77ae-49a1-b81b-e7ecfb26ad3a",
   "metadata": {},
   "outputs": [
    {
     "name": "stdout",
     "output_type": "stream",
     "text": [
      "Столица для страны RU - Moscow\n",
      "Столица для страны US - Washington\n"
     ]
    }
   ],
   "source": [
    "import zeep\n",
    "\n",
    "# WSDL URL\n",
    "wsdl_url = \"http://webservices.oorsprong.org/websamples.countryinfo/CountryInfoService.wso?WSDL\"\n",
    "\n",
    "# URL метода\n",
    "method_url = \"http://webservices.oorsprong.org/websamples.countryinfo/CapitalCity\"\n",
    "\n",
    "# URL сервиса\n",
    "service_url = \"http://webservices.oorsprong.org/websamples.countryinfo/CountryInfoService.wso\"\n",
    "\n",
    "# создание header element\n",
    "header = zeep.xsd.Element(\n",
    "    \"Header\",\n",
    "    zeep.xsd.ComplexType(\n",
    "        [\n",
    "            zeep.xsd.Element(\n",
    "                \"{http://www.w3.org/2005/08/addressing}Action\", zeep.xsd.String()\n",
    "            ),\n",
    "            zeep.xsd.Element(\n",
    "                \"{http://www.w3.org/2005/08/addressing}To\", zeep.xsd.String()\n",
    "            ),\n",
    "        ]\n",
    "    ),\n",
    ")\n",
    "# установка header value из header element\n",
    "header_value = header(Action=method_url, To=service_url)\n",
    "\n",
    "# инициализация zeep клиента\n",
    "client = zeep.Client(wsdl=wsdl_url)\n",
    "\n",
    "# ставим код страны Russia\n",
    "country_code = \"RU\"\n",
    "\n",
    "# делаем запрос в сервис\n",
    "result = client.service.CapitalCity(\n",
    "    sCountryISOCode=country_code,\n",
    "    _soapheaders=[header_value]\n",
    ")\n",
    "# выводим результат\n",
    "print(f\"Столица для страны {country_code} - {result}\")\n",
    "\n",
    "# вводим код страны США\n",
    "country_code = \"US\"\n",
    "\n",
    "# делаем запрос к сервису\n",
    "result = client.service.CapitalCity(\n",
    "    sCountryISOCode=country_code,\n",
    "    _soapheaders=[header_value]\n",
    ")\n",
    "\n",
    "# выводим результат\n",
    "print(f\"Столица для страны {country_code} - {result}\")\n"
   ]
  },
  {
   "cell_type": "code",
   "execution_count": null,
   "id": "f7ea54d1-75b4-4e52-ae17-e7a6f9f6f2ea",
   "metadata": {},
   "outputs": [],
   "source": []
  }
 ],
 "metadata": {
  "kernelspec": {
   "display_name": "Python 3 (ipykernel)",
   "language": "python",
   "name": "python3"
  },
  "language_info": {
   "codemirror_mode": {
    "name": "ipython",
    "version": 3
   },
   "file_extension": ".py",
   "mimetype": "text/x-python",
   "name": "python",
   "nbconvert_exporter": "python",
   "pygments_lexer": "ipython3",
   "version": "3.11.6"
  }
 },
 "nbformat": 4,
 "nbformat_minor": 5
}
