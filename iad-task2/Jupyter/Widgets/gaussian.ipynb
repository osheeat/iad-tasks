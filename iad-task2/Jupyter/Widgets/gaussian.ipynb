{
 "cells": [
  {
   "cell_type": "code",
   "execution_count": 2,
   "id": "619a539b-6be9-4132-ac94-349a5def311b",
   "metadata": {},
   "outputs": [],
   "source": [
    "import numpy as np\n",
    "from ipywidgets import interact\n",
    "import matplotlib.pyplot as plt\n",
    "\n",
    "%matplotlib inline\n",
    "\n"
   ]
  },
  {
   "cell_type": "code",
   "execution_count": 6,
   "id": "a0673914-4379-464b-864d-1917f70c62dd",
   "metadata": {},
   "outputs": [
    {
     "data": {
      "application/vnd.jupyter.widget-view+json": {
       "model_id": "c4c978b3bc31405ab0071183423c741a",
       "version_major": 2,
       "version_minor": 0
      },
      "text/plain": [
       "interactive(children=(IntSlider(value=16, description='n', max=30, min=3), Output()), _dom_classes=('widget-in…"
      ]
     },
     "metadata": {},
     "output_type": "display_data"
    }
   ],
   "source": [
    "def gaussian(x, a, b, c):\n",
    "    return a * np.exp(-b * (x-c)**2)\n",
    "    \n",
    "def noisy_gaussian():\n",
    "    # gaussian array y in interval -5 <= x <= 5\n",
    "    nx = 100\n",
    "    x = np.linspace(-5.0, 5.0, nx)\n",
    "    y = gaussian(x, a=2.0, b=0.5, c=1.5)\n",
    "    noise = np.random.normal(0.0, 0.2, nx)\n",
    "    y += noise\n",
    "    return x, y\n",
    "    \n",
    "def fit(x, y, n):\n",
    "    pfit = np.polyfit(x, y, n)\n",
    "    yfit = np.polyval(pfit, x)\n",
    "    return yfit\n",
    "    \n",
    "def plot(x, y, yfit):\n",
    "    plt.plot(x, y, \"r\", label=\"Data\")\n",
    "    plt.plot(x, yfit, \"b\", label=\"Fit\")\n",
    "    plt.legend()\n",
    "    plt.ylim(-0.5, 2.5)\n",
    "    plt.show()\n",
    "x, y = noisy_gaussian()\n",
    "    \n",
    "@interact\n",
    "def slider(n=(3, 30)):\n",
    "    yfit = fit(x, y, n)\n",
    "    plot(x, y, yfit)"
   ]
  },
  {
   "cell_type": "code",
   "execution_count": null,
   "id": "faf7dbf7-2ce0-4c17-80eb-181ea29199fe",
   "metadata": {},
   "outputs": [],
   "source": []
  }
 ],
 "metadata": {
  "kernelspec": {
   "display_name": "Python 3 (ipykernel)",
   "language": "python",
   "name": "python3"
  },
  "language_info": {
   "codemirror_mode": {
    "name": "ipython",
    "version": 3
   },
   "file_extension": ".py",
   "mimetype": "text/x-python",
   "name": "python",
   "nbconvert_exporter": "python",
   "pygments_lexer": "ipython3",
   "version": "3.11.6"
  }
 },
 "nbformat": 4,
 "nbformat_minor": 5
}
