{
 "cells": [
  {
   "cell_type": "markdown",
   "id": "fc1fe212-3412-40fd-8f3b-e0a155d706da",
   "metadata": {},
   "source": [
    "Задание 1 - Сгенерировать, используя модуль псевдослучайных чисел random, или ввести с клавиатуры список целых чисел. Вывести в консоль, затем перевернуть его и снова вывести в консоль."
   ]
  },
  {
   "cell_type": "code",
   "execution_count": 45,
   "id": "54f62000-1885-4d57-8656-f07f18c516b3",
   "metadata": {},
   "outputs": [],
   "source": [
    "import random\n",
    "from random import randint"
   ]
  },
  {
   "cell_type": "code",
   "execution_count": 46,
   "id": "250cbfd9-2762-41d2-9a2e-3ccde51adedb",
   "metadata": {},
   "outputs": [
    {
     "name": "stdout",
     "output_type": "stream",
     "text": [
      "[24, 3, 52, 80, 87, 85, 72, 7, 22, 91, 36, 17, 10, 92, 49]\n",
      "[49, 92, 10, 17, 36, 91, 22, 7, 72, 85, 87, 80, 52, 3, 24]\n"
     ]
    }
   ],
   "source": [
    "random_list = random.sample(range(0, 100), 15)\n",
    "print(random_list)\n",
    "random_list = list(reversed(random_list))\n",
    "print(random_list)"
   ]
  },
  {
   "cell_type": "markdown",
   "id": "28e6bc3b-7a28-4e7c-bbb2-81f4e71d4acb",
   "metadata": {},
   "source": [
    "Задание 2 - Сгенерировать, используя модуль псевдослучайных чисел random, или ввести с клавиатуры два списка целых чисел. Вывести их в консоль. Создать новый пустой список. Добавить в него все четные (по индексу) элементы первого списка и все нечетные (по индексу) элементы второго списка. Вывести третий список в консоль."
   ]
  },
  {
   "cell_type": "code",
   "execution_count": 47,
   "id": "a8dde9c8-d791-4751-99c2-323e88c0ea5f",
   "metadata": {},
   "outputs": [
    {
     "name": "stdout",
     "output_type": "stream",
     "text": [
      "[27, 71, 36, 46, 50, 64, 1, 51, 44, 94, 33, 78, 30, 65, 14]\n",
      "[54, 15, 90, 58, 76, 83, 16, 69, 43, 85, 52, 94, 59, 35, 3]\n",
      "[71, 46, 64, 51, 94, 78, 65, 54, 90, 76, 16, 43, 52, 59, 3]\n"
     ]
    }
   ],
   "source": [
    "list1 = random.sample(range(0, 100), 15)\n",
    "list2 = random.sample(range(0, 100), 15)\n",
    "print(list1)\n",
    "print(list2)\n",
    "\n",
    "result_list = []\n",
    "result_list += list1[1::2]\n",
    "result_list += list2[::2]\n",
    "print(result_list)"
   ]
  },
  {
   "cell_type": "markdown",
   "id": "09901216-e877-4ff1-833a-1e56290c2e16",
   "metadata": {},
   "source": [
    "Задание 3 - Сгенерировать, используя модуль псевдослучайных чисел random, или ввести с клавиатуры список произвольных элементов (целые числа, числа с плавающей точкой, строки). Вывести в консоль. Убрать из него все дубликаты через приведение типов. Вывести в консоль."
   ]
  },
  {
   "cell_type": "code",
   "execution_count": 53,
   "id": "65079ab6-d999-4754-a65d-6e06886f4234",
   "metadata": {
    "jp-MarkdownHeadingCollapsed": true
   },
   "outputs": [
    {
     "name": "stdin",
     "output_type": "stream",
     "text": [
      " abc\n",
      " qwe\n",
      " abc\n",
      " 32\n"
     ]
    },
    {
     "name": "stdout",
     "output_type": "stream",
     "text": [
      "['qwe', 'abc', '32']\n"
     ]
    }
   ],
   "source": [
    "my_list = [input() for i in range(randint(4, 6))]\n",
    "result = list(set(my_list))\n",
    "print(result)"
   ]
  },
  {
   "cell_type": "markdown",
   "id": "8d29caa6-0ac2-49cf-88fc-774d52d0ffc0",
   "metadata": {},
   "source": [
    "Задание 4 - Сгенерировать, используя модуль псевдослучайных чисел random, или ввести с клавиатуры словарь, где ключом является строка, значением — целое число или число с плавающей точкой. Вывести в консоль. Для всех уникальных значений создать кортеж, где первым элементом будет значение, вторым — список связанных с ним ключей. Собрать эти кортежи в список, вывести его в консоль."
   ]
  },
  {
   "cell_type": "code",
   "execution_count": 48,
   "id": "97bf3449-dc85-417e-9e09-b3b21bbdd856",
   "metadata": {},
   "outputs": [
    {
     "name": "stdout",
     "output_type": "stream",
     "text": [
      "{'0': 29, '1': 9, '2': 17, '3': 2, '4': 47, '5': 33, '6': 37, '7': 17, '8': 1, '9': 21}\n",
      "{33, 2, 1, 37, 9, 47, 17, 21, 29}\n",
      "[(33, ['5']), (2, ['3']), (1, ['8']), (37, ['6']), (9, ['1']), (47, ['4']), (17, ['2', '7']), (21, ['9']), (29, ['0'])]\n"
     ]
    }
   ],
   "source": [
    "def get_keys_for_value(value, d: dict):\n",
    "    keys = []\n",
    "    for key, curr_value in d.items():\n",
    "        if curr_value != value:\n",
    "            continue\n",
    "\n",
    "        keys.append(key)\n",
    "\n",
    "    return keys\n",
    "\n",
    "# Генерируем словарь с помощью модуля random\n",
    "dictionary = {str(i): random.randint(0, 50) for i in range(10)}\n",
    "\n",
    "# Выводим словарь в консоль\n",
    "print(dictionary)\n",
    "unique_values = set(dictionary.values())\n",
    "print(unique_values)\n",
    "\n",
    "result_list = []\n",
    "\n",
    "for value in unique_values:\n",
    "    this_tuple = (value, get_keys_for_value(value, dictionary))\n",
    "    result_list.append(this_tuple)\n",
    "\n",
    "print(result_list)"
   ]
  },
  {
   "cell_type": "markdown",
   "id": "a2420fbe-4749-4254-9fe7-d781b44247aa",
   "metadata": {},
   "source": [
    "Задание 5 - Сгенерировать, используя модуль псевдослучайных чисел random, или ввести с клавиатуры два словаря, где ключом является строка, значением — целое число или число с плавающей точкой. Вывести в консоль. Найти пересечения множеств значений словарей. Создать новый словарь, содержащий только те пары ключ-значение, значения из которых входит в пересечение. Вывести в консоль."
   ]
  },
  {
   "cell_type": "code",
   "execution_count": 51,
   "id": "05923f1d-6287-414d-a2d6-e7b2b1d7e6ec",
   "metadata": {},
   "outputs": [
    {
     "name": "stdout",
     "output_type": "stream",
     "text": [
      "{'0': 50, '1': 21, '2': 39, '3': 40, '4': 13, '5': 33, '6': 6, '7': 21, '8': 16, '9': 42}\n",
      "{'11': 26, '12': 22, '13': 31, '14': 11, '15': 28, '16': 43, '17': 25, '18': 6, '19': 3}\n",
      "{6}\n",
      "{'6': 6, '18': 6}\n"
     ]
    }
   ],
   "source": [
    "def get_key_by_value(value, dictionary: dict):\n",
    "    for key, curr_value in dictionary.items():\n",
    "        if curr_value == value:\n",
    "            return key\n",
    "\n",
    "dictionary1 = {str(i): random.randint(0, 50) for i in range(10)}\n",
    "dictionary2 = {str(i): random.randint(0, 50) for i in range(11, 20)}\n",
    "\n",
    "print(dictionary1)\n",
    "print(dictionary2)\n",
    "\n",
    "values1 = set(dictionary1.values())\n",
    "values2 = set(dictionary2.values())\n",
    "\n",
    "values_intersection = values1.intersection(values2)\n",
    "\n",
    "print(values_intersection)\n",
    "\n",
    "\n",
    "dict3 = {}\n",
    "for item in values_intersection:\n",
    "    k1 = get_key_by_value(item, dictionary1)\n",
    "    dict3 = {**dict3, k1: item}\n",
    "    k2 = get_key_by_value(item, dictionary2)\n",
    "    dict3 = {**dict3, k2: item}\n",
    "\n",
    "print(dict3)"
   ]
  },
  {
   "cell_type": "code",
   "execution_count": null,
   "id": "938de91e-edce-48a0-99d6-0cd31bacabc0",
   "metadata": {},
   "outputs": [],
   "source": []
  }
 ],
 "metadata": {
  "kernelspec": {
   "display_name": "Python 3 (ipykernel)",
   "language": "python",
   "name": "python3"
  },
  "language_info": {
   "codemirror_mode": {
    "name": "ipython",
    "version": 3
   },
   "file_extension": ".py",
   "mimetype": "text/x-python",
   "name": "python",
   "nbconvert_exporter": "python",
   "pygments_lexer": "ipython3",
   "version": "3.11.6"
  }
 },
 "nbformat": 4,
 "nbformat_minor": 5
}
