{
 "cells": [
  {
   "cell_type": "markdown",
   "metadata": {},
   "source": [
    "Задание 1\n",
    "==="
   ]
  },
  {
   "cell_type": "code",
   "execution_count": 2,
   "metadata": {},
   "outputs": [
    {
     "name": "stdout",
     "output_type": "stream",
     "text": [
      "Series из списка:\n",
      "0     a\n",
      "1     b\n",
      "2     c\n",
      "3     e\n",
      "4     d\n",
      "5     f\n",
      "6     g\n",
      "7     h\n",
      "8     i\n",
      "9     j\n",
      "10    k\n",
      "11    l\n",
      "12    m\n",
      "13    n\n",
      "14    o\n",
      "15    p\n",
      "16    q\n",
      "17    r\n",
      "18    s\n",
      "19    t\n",
      "20    u\n",
      "21    v\n",
      "22    w\n",
      "23    x\n",
      "24    y\n",
      "25    z\n",
      "dtype: object\n",
      "\n",
      "Series из ndarray:\n",
      "0      0\n",
      "1      1\n",
      "2      2\n",
      "3      3\n",
      "4      4\n",
      "5      5\n",
      "6      6\n",
      "7      7\n",
      "8      8\n",
      "9      9\n",
      "10    10\n",
      "11    11\n",
      "12    12\n",
      "13    13\n",
      "14    14\n",
      "15    15\n",
      "16    16\n",
      "17    17\n",
      "18    18\n",
      "19    19\n",
      "20    20\n",
      "21    21\n",
      "22    22\n",
      "23    23\n",
      "24    24\n",
      "25    25\n",
      "dtype: int32\n",
      "\n",
      "Series из словаря:\n",
      "a     0\n",
      "b     1\n",
      "c     2\n",
      "e     3\n",
      "d     4\n",
      "f     5\n",
      "g     6\n",
      "h     7\n",
      "i     8\n",
      "j     9\n",
      "k    10\n",
      "l    11\n",
      "m    12\n",
      "n    13\n",
      "o    14\n",
      "p    15\n",
      "q    16\n",
      "r    17\n",
      "s    18\n",
      "t    19\n",
      "u    20\n",
      "v    21\n",
      "w    22\n",
      "x    23\n",
      "y    24\n",
      "z    25\n",
      "dtype: int32\n"
     ]
    }
   ],
   "source": [
    "import pandas as pd\n",
    "import numpy as np\n",
    "\n",
    "mylist = list('abcedfghijklmnopqrstuvwxyz')\n",
    "myarr = np.arange(26)\n",
    "mydict = dict(zip(mylist, myarr))\n",
    "\n",
    "# Создание Series из списка\n",
    "series_from_list = pd.Series(mylist)\n",
    "print(\"Series из списка:\")\n",
    "print(series_from_list)\n",
    "\n",
    "# Создание Series из ndarray\n",
    "series_from_ndarray = pd.Series(myarr)\n",
    "print(\"\\nSeries из ndarray:\")\n",
    "print(series_from_ndarray)\n",
    "\n",
    "# Создание Series из словаря\n",
    "series_from_dict = pd.Series(mydict)\n",
    "print(\"\\nSeries из словаря:\")\n",
    "print(series_from_dict)"
   ]
  },
  {
   "cell_type": "markdown",
   "metadata": {},
   "source": [
    "Задание 2\n",
    "==="
   ]
  },
  {
   "cell_type": "code",
   "execution_count": 9,
   "metadata": {},
   "outputs": [
    {
     "name": "stdout",
     "output_type": "stream",
     "text": [
      "   index  value\n",
      "0      a      0\n",
      "1      b      1\n",
      "2      c      2\n",
      "3      e      3\n",
      "4      d      4\n",
      "5      f      5\n",
      "6      g      6\n",
      "7      h      7\n",
      "8      i      8\n",
      "9      j      9\n",
      "10     k     10\n",
      "11     l     11\n",
      "12     m     12\n",
      "13     n     13\n",
      "14     o     14\n",
      "15     p     15\n",
      "16     q     16\n",
      "17     r     17\n",
      "18     s     18\n",
      "19     t     19\n",
      "20     u     20\n",
      "21     v     21\n",
      "22     w     22\n",
      "23     x     23\n",
      "24     y     24\n",
      "25     z     25\n"
     ]
    }
   ],
   "source": [
    "\n",
    "mylist = list('abcedfghijklmnopqrstuvwxyz')\n",
    "myarr = np.arange(26)\n",
    "mydict = dict(zip(mylist, myarr))\n",
    "ser = pd.Series(mydict)\n",
    "\n",
    "# Преобразование Series в DataFrame с индексом в качестве столбца\n",
    "df = ser.reset_index()\n",
    "df.columns = ['index', 'value']\n",
    "\n",
    "print(df)"
   ]
  },
  {
   "cell_type": "markdown",
   "metadata": {},
   "source": [
    "Задание 3\n",
    "==="
   ]
  },
  {
   "cell_type": "code",
   "execution_count": 6,
   "metadata": {},
   "outputs": [
    {
     "name": "stdout",
     "output_type": "stream",
     "text": [
      "   col1  col2\n",
      "0     a     0\n",
      "1     b     1\n",
      "2     c     2\n",
      "3     e     3\n",
      "4     d     4\n",
      "5     f     5\n",
      "6     g     6\n",
      "7     h     7\n",
      "8     i     8\n",
      "9     j     9\n",
      "10    k    10\n",
      "11    l    11\n",
      "12    m    12\n",
      "13    n    13\n",
      "14    o    14\n",
      "15    p    15\n",
      "16    q    16\n",
      "17    r    17\n",
      "18    s    18\n",
      "19    t    19\n",
      "20    u    20\n",
      "21    v    21\n",
      "22    w    22\n",
      "23    x    23\n",
      "24    y    24\n",
      "25    z    25\n"
     ]
    }
   ],
   "source": [
    "mylist = list('abcedfghijklmnopqrstuvwxyz')\n",
    "myarr = np.arange(26)\n",
    "mydict = dict(zip(mylist, myarr))\n",
    "\n",
    "ser1 = pd.Series(mylist)\n",
    "ser2 = pd.Series(myarr)\n",
    "\n",
    "# Объединение ser1 и ser2 в датафрейм\n",
    "df = pd.DataFrame({'col1': ser1, 'col2': ser2})\n",
    "\n",
    "print(df)"
   ]
  },
  {
   "cell_type": "markdown",
   "metadata": {},
   "source": [
    "Задание 4\n",
    "==="
   ]
  },
  {
   "cell_type": "code",
   "execution_count": 12,
   "metadata": {},
   "outputs": [
    {
     "name": "stdout",
     "output_type": "stream",
     "text": [
      "   latin_letters\n",
      "0              a\n",
      "1              b\n",
      "2              c\n",
      "3              e\n",
      "4              d\n",
      "5              f\n",
      "6              g\n",
      "7              h\n",
      "8              i\n",
      "9              j\n",
      "10             k\n",
      "11             l\n",
      "12             m\n",
      "13             n\n",
      "14             o\n",
      "15             p\n",
      "16             q\n",
      "17             r\n",
      "18             s\n",
      "19             t\n",
      "20             u\n",
      "21             v\n",
      "22             w\n",
      "23             x\n",
      "24             y\n",
      "25             z\n",
      "0     a\n",
      "1     b\n",
      "2     c\n",
      "3     e\n",
      "4     d\n",
      "5     f\n",
      "6     g\n",
      "7     h\n",
      "8     i\n",
      "9     j\n",
      "10    k\n",
      "11    l\n",
      "12    m\n",
      "13    n\n",
      "14    o\n",
      "15    p\n",
      "16    q\n",
      "17    r\n",
      "18    s\n",
      "19    t\n",
      "20    u\n",
      "21    v\n",
      "22    w\n",
      "23    x\n",
      "24    y\n",
      "25    z\n",
      "Name: latin_letters, dtype: object\n"
     ]
    }
   ],
   "source": [
    "import pandas as pd\n",
    "\n",
    "ser = pd.Series(list('abcedfghijklmnopqrstuvwxyz'))\n",
    "\n",
    "# Присвоение имени ряда\n",
    "ser.name = 'latin_letters'\n",
    "\n",
    "# Вывод ряда с именем\n",
    "df = pd.DataFrame({'latin_letters': ser})\n",
    "print(df)\n",
    "print(ser)\n"
   ]
  },
  {
   "cell_type": "markdown",
   "metadata": {},
   "source": [
    "Задание 5\n",
    "==="
   ]
  },
  {
   "cell_type": "code",
   "execution_count": 14,
   "metadata": {},
   "outputs": [
    {
     "name": "stdout",
     "output_type": "stream",
     "text": [
      "0    1\n",
      "1    2\n",
      "2    3\n",
      "dtype: int64\n"
     ]
    }
   ],
   "source": [
    "ser1 = pd.Series([1, 2, 3, 4, 5])\n",
    "ser2 = pd.Series([4, 5, 6, 7, 8])\n",
    "\n",
    "# Используем метод isin() для определения, какие элементы из ser1 присутствуют в ser2\n",
    "mask = ser1.isin(ser2)\n",
    "\n",
    "# Фильтрация ser1 с использованием маски\n",
    "result = ser1[~mask]\n",
    "\n",
    "print(result)\n"
   ]
  },
  {
   "cell_type": "markdown",
   "metadata": {},
   "source": [
    "Задание 6\n",
    "==="
   ]
  },
  {
   "cell_type": "code",
   "execution_count": 16,
   "metadata": {},
   "outputs": [
    {
     "name": "stdout",
     "output_type": "stream",
     "text": [
      "0    1\n",
      "1    2\n",
      "2    3\n",
      "2    6\n",
      "3    7\n",
      "4    8\n",
      "dtype: int64\n"
     ]
    }
   ],
   "source": [
    "ser1 = pd.Series([1, 2, 3, 4, 5])\n",
    "ser2 = pd.Series([4, 5, 6, 7, 8])\n",
    "\n",
    "# Используем метод isin() для определения, какие элементы из ser1 и ser2 присутствуют в другом ряде\n",
    "mask1 = ser1.isin(ser2)\n",
    "mask2 = ser2.isin(ser1)\n",
    "\n",
    "# Получаем элементы, которые не являются общими для обоих рядов\n",
    "result = pd.concat([ser1[~mask1], ser2[~mask2]])\n",
    "\n",
    "print(result)\n"
   ]
  },
  {
   "cell_type": "markdown",
   "metadata": {},
   "source": [
    "Задание 7\n",
    "==="
   ]
  },
  {
   "cell_type": "code",
   "execution_count": 19,
   "metadata": {},
   "outputs": [
    {
     "name": "stdout",
     "output_type": "stream",
     "text": [
      "Минимальное значение: -2.7824272238299397\n",
      "25-й процентиль: 7.001144926907257\n",
      "Медиана: 9.368765604691166\n",
      "75-й процентиль: 13.956956706868011\n",
      "Максимальное значение: 18.210609253161557\n"
     ]
    }
   ],
   "source": [
    "import pandas as pd\n",
    "import numpy as np\n",
    "\n",
    "ser = pd.Series(np.random.normal(10, 5, 25))\n",
    "\n",
    "# Минимальное значение\n",
    "min_value = ser.min()\n",
    "\n",
    "# 25-й процентиль\n",
    "q25 = ser.quantile(0.25)\n",
    "\n",
    "# Медиана\n",
    "median_value = ser.median()\n",
    "\n",
    "# 75-й процентиль\n",
    "q75 = ser.quantile(0.75)\n",
    "\n",
    "# Максимальное значение\n",
    "max_value = ser.max()\n",
    "\n",
    "# Вывод результатов\n",
    "print(f\"Минимальное значение: {min_value}\")\n",
    "print(f\"25-й процентиль: {q25}\")\n",
    "print(f\"Медиана: {median_value}\")\n",
    "print(f\"75-й процентиль: {q75}\")\n",
    "print(f\"Максимальное значение: {max_value}\")\n"
   ]
  },
  {
   "cell_type": "markdown",
   "metadata": {},
   "source": [
    "Задание 8\n",
    "==="
   ]
  },
  {
   "cell_type": "code",
   "execution_count": 20,
   "metadata": {},
   "outputs": [
    {
     "name": "stdout",
     "output_type": "stream",
     "text": [
      "b    8\n",
      "h    5\n",
      "d    4\n",
      "f    3\n",
      "e    3\n",
      "a    3\n",
      "c    2\n",
      "g    2\n",
      "Name: count, dtype: int64\n"
     ]
    }
   ],
   "source": [
    "import pandas as pd\n",
    "import numpy as np\n",
    "\n",
    "ser = pd.Series(np.take(list('abcdefgh'), np.random.randint(8, size=30)))\n",
    "\n",
    "# Вычисление частоты встречаемости каждого уникального значения\n",
    "value_counts = ser.value_counts()\n",
    "\n",
    "# Вывод результатов\n",
    "print(value_counts)\n"
   ]
  },
  {
   "cell_type": "markdown",
   "metadata": {},
   "source": [
    "Задание 9\n",
    "==="
   ]
  },
  {
   "cell_type": "code",
   "execution_count": 22,
   "metadata": {},
   "outputs": [
    {
     "name": "stdout",
     "output_type": "stream",
     "text": [
      "0          1\n",
      "1          1\n",
      "2          4\n",
      "3          4\n",
      "4          4\n",
      "5          4\n",
      "6          1\n",
      "7     Прочее\n",
      "8     Прочее\n",
      "9          1\n",
      "10    Прочее\n",
      "11    Прочее\n",
      "dtype: object\n"
     ]
    }
   ],
   "source": [
    "np.random.seed(100)\n",
    "ser = pd.Series(np.random.randint(1, 5, [12]))\n",
    "\n",
    "# Находим два наиболее часто встречающихся элемента\n",
    "top_two_values = ser.value_counts().index[:2]\n",
    "\n",
    "# Заменяем все элементы, кроме двух наиболее часто встречающихся, на 'Прочее'\n",
    "ser_replaced = ser.apply(lambda x: x if x in top_two_values else 'Прочее')\n",
    "\n",
    "# Вывод результата\n",
    "print(ser_replaced)"
   ]
  },
  {
   "cell_type": "markdown",
   "metadata": {},
   "source": [
    "Задание 10\n",
    "==="
   ]
  },
  {
   "cell_type": "code",
   "execution_count": 23,
   "metadata": {},
   "outputs": [
    {
     "name": "stdout",
     "output_type": "stream",
     "text": [
      "0      5th\n",
      "1     10th\n",
      "2      8th\n",
      "3      7th\n",
      "4      2th\n",
      "5      2th\n",
      "6      1th\n",
      "7      9th\n",
      "8      7th\n",
      "9      8th\n",
      "10     1th\n",
      "11    10th\n",
      "12     9th\n",
      "13     4th\n",
      "14     3th\n",
      "15     3th\n",
      "16     5th\n",
      "17     6th\n",
      "18     6th\n",
      "19     4th\n",
      "dtype: category\n",
      "Categories (10, object): ['1th' < '2th' < '3th' < '4th' ... '7th' < '8th' < '9th' < '10th']\n"
     ]
    }
   ],
   "source": [
    "np.random.seed(42)\n",
    "ser = pd.Series(np.random.random(20))\n",
    "\n",
    "# Разбиваем ряд на 10 децилей и заменяем значения на название дециля\n",
    "deciles = pd.qcut(ser, q=10, labels=[f\"{i}th\" for i in range(1, 11)])\n",
    "\n",
    "# Вывод результата\n",
    "print(deciles)"
   ]
  },
  {
   "cell_type": "markdown",
   "metadata": {},
   "source": [
    "Задание 11\n",
    "==="
   ]
  },
  {
   "cell_type": "code",
   "execution_count": 24,
   "metadata": {},
   "outputs": [
    {
     "name": "stdout",
     "output_type": "stream",
     "text": [
      "   0  1  2  3  4\n",
      "0  7  4  8  5  7\n",
      "1  3  7  8  5  4\n",
      "2  8  8  3  6  5\n",
      "3  2  8  6  2  5\n",
      "4  1  6  9  1  3\n",
      "5  7  4  9  3  5\n",
      "6  3  7  5  9  7\n"
     ]
    }
   ],
   "source": [
    "np.random.seed(42)\n",
    "ser = pd.Series(np.random.randint(1, 10, 35))\n",
    "\n",
    "# Переформатирование ряда в датафрейм\n",
    "df = pd.DataFrame(np.array(ser).reshape(7, 5))\n",
    "\n",
    "# Вывод результата\n",
    "print(df)"
   ]
  },
  {
   "cell_type": "markdown",
   "metadata": {},
   "source": [
    "Задание 12\n",
    "==="
   ]
  },
  {
   "cell_type": "code",
   "execution_count": 39,
   "metadata": {},
   "outputs": [
    {
     "name": "stdout",
     "output_type": "stream",
     "text": [
      "0    7\n",
      "1    4\n",
      "2    8\n",
      "3    5\n",
      "4    7\n",
      "5    3\n",
      "6    7\n",
      "7    8\n",
      "8    5\n",
      "9    4\n",
      "dtype: int32\n",
      "Index([5], dtype='int64')\n"
     ]
    }
   ],
   "source": [
    "import numpy as np\n",
    "np.random.seed(42)\n",
    "ser = pd.Series(np.random.randint(1, 10, 10))\n",
    "\n",
    "print(ser)\n",
    "\n",
    "# Находим позиции чисел, кратных 3\n",
    "positions = ser.index[ser % 3 == 0]\n",
    "\n",
    "# Вывод результата\n",
    "print(positions)"
   ]
  },
  {
   "cell_type": "markdown",
   "metadata": {},
   "source": [
    "Задание 13\n",
    "==="
   ]
  },
  {
   "cell_type": "code",
   "execution_count": 43,
   "metadata": {},
   "outputs": [
    {
     "name": "stdout",
     "output_type": "stream",
     "text": [
      "0     a\n",
      "4     e\n",
      "8     i\n",
      "14    o\n",
      "20    u\n",
      "dtype: object\n"
     ]
    }
   ],
   "source": [
    "ser = pd.Series(list('abcdefghijklmnopqrstuvwxyz'))\n",
    "pos = [0, 4, 8, 14, 20]\n",
    "\n",
    "\n",
    "# Используем метод isin() для определения, какие элементы из ser1 присутствуют в ser2\n",
    "mask = ser1.isin(ser2)\n",
    "\n",
    "\n",
    "# Вывод результата\n",
    "print(result)"
   ]
  },
  {
   "cell_type": "markdown",
   "metadata": {},
   "source": [
    "Задание 14\n",
    "==="
   ]
  },
  {
   "cell_type": "code",
   "execution_count": 44,
   "metadata": {},
   "outputs": [
    {
     "name": "stdout",
     "output_type": "stream",
     "text": [
      "Объединение по вертикали:\n",
      "   0  1\n",
      "0  0  a\n",
      "1  1  b\n",
      "2  2  c\n",
      "3  3  d\n",
      "4  4  e\n",
      "\n",
      "Объединение по горизонтали:\n",
      "0    0\n",
      "1    1\n",
      "2    2\n",
      "3    3\n",
      "4    4\n",
      "5    a\n",
      "6    b\n",
      "7    c\n",
      "8    d\n",
      "9    e\n",
      "dtype: object\n"
     ]
    }
   ],
   "source": [
    "ser1 = pd.Series(range(5))\n",
    "ser2 = pd.Series(list('abcde'))\n",
    "\n",
    "# Объединение по вертикали (по столбцам)\n",
    "df_vertical = pd.concat([ser1, ser2], axis=1)\n",
    "\n",
    "# Объединение по горизонтали (по строкам)\n",
    "df_horizontal = pd.concat([ser1, ser2], axis=0, ignore_index=True)\n",
    "\n",
    "# Вывод результатов\n",
    "print(\"Объединение по вертикали:\")\n",
    "print(df_vertical)\n",
    "\n",
    "print(\"\\nОбъединение по горизонтали:\")\n",
    "print(df_horizontal)"
   ]
  },
  {
   "cell_type": "markdown",
   "metadata": {},
   "source": [
    "Задание 15\n",
    "==="
   ]
  },
  {
   "cell_type": "code",
   "execution_count": 54,
   "metadata": {},
   "outputs": [
    {
     "name": "stdout",
     "output_type": "stream",
     "text": [
      "0    10\n",
      "1     9\n",
      "2     6\n",
      "3     5\n",
      "4     3\n",
      "5     1\n",
      "6    12\n",
      "7     8\n",
      "8    13\n",
      "dtype: int64\n",
      "[0, 4, 5, 8]\n"
     ]
    }
   ],
   "source": [
    "ser1 = pd.Series([10, 9, 6, 5, 3, 1, 12, 8, 13])\n",
    "ser2 = pd.Series([1, 3, 10, 13])\n",
    "\n",
    "print(ser1)\n",
    "# Получение позиций элементов ser2 в ser1\n",
    "positions = ser1.index[ser1.isin(ser2)].tolist()\n",
    "\n",
    "# Вывод результата\n",
    "print(positions)"
   ]
  },
  {
   "cell_type": "markdown",
   "metadata": {},
   "source": [
    "Задание 16\n",
    "==="
   ]
  },
  {
   "cell_type": "code",
   "execution_count": 55,
   "metadata": {},
   "outputs": [
    {
     "name": "stdout",
     "output_type": "stream",
     "text": [
      "Среднеквадратическая ошибка: 0.3589349733888997\n"
     ]
    }
   ],
   "source": [
    "from sklearn.metrics import mean_squared_error\n",
    "\n",
    "truth = pd.Series(range(10))\n",
    "pred = pd.Series(range(10)) + np.random.random(10)\n",
    "\n",
    "# Вычисление среднеквадратической ошибки\n",
    "mse = mean_squared_error(truth, pred)\n",
    "\n",
    "# Вывод результата\n",
    "print(\"Среднеквадратическая ошибка:\", mse)"
   ]
  },
  {
   "cell_type": "markdown",
   "metadata": {},
   "source": [
    "Задание 17\n",
    "==="
   ]
  },
  {
   "cell_type": "code",
   "execution_count": 56,
   "metadata": {},
   "outputs": [
    {
     "name": "stdout",
     "output_type": "stream",
     "text": [
      "0     How\n",
      "1      To\n",
      "2    Kick\n",
      "3    Ass?\n",
      "dtype: object\n"
     ]
    }
   ],
   "source": [
    "ser = pd.Series(['how', 'to', 'kick', 'ass?'])\n",
    "\n",
    "# Поставить первый символ каждого слова в верхний регистр\n",
    "result = ser.str.title()\n",
    "\n",
    "# Вывод результата\n",
    "print(result)"
   ]
  },
  {
   "cell_type": "markdown",
   "metadata": {},
   "source": [
    "Задание 18\n",
    "==="
   ]
  },
  {
   "cell_type": "code",
   "execution_count": 57,
   "metadata": {},
   "outputs": [
    {
     "name": "stdout",
     "output_type": "stream",
     "text": [
      "0    3\n",
      "1    2\n",
      "2    4\n",
      "3    4\n",
      "dtype: int64\n"
     ]
    }
   ],
   "source": [
    "ser = pd.Series(['how', 'to', 'kick', 'ass?'])\n",
    "\n",
    "# Подсчитать число символов в каждом слове\n",
    "character_counts = ser.str.len()\n",
    "\n",
    "# Вывод результата\n",
    "print(character_counts)"
   ]
  },
  {
   "cell_type": "markdown",
   "metadata": {},
   "source": [
    "Задание 19\n",
    "==="
   ]
  },
  {
   "cell_type": "code",
   "execution_count": 59,
   "metadata": {},
   "outputs": [
    {
     "name": "stdout",
     "output_type": "stream",
     "text": [
      "0    NaN\n",
      "1    2.0\n",
      "2    3.0\n",
      "3    4.0\n",
      "4    5.0\n",
      "5    6.0\n",
      "6    6.0\n",
      "7    8.0\n",
      "dtype: float64\n",
      "0    NaN\n",
      "1    NaN\n",
      "2    1.0\n",
      "3    1.0\n",
      "4    1.0\n",
      "5    1.0\n",
      "6    0.0\n",
      "7    2.0\n",
      "dtype: float64\n"
     ]
    }
   ],
   "source": [
    "ser = pd.Series([1, 3, 6, 10, 15, 21, 27, 35])\n",
    "\n",
    "\n",
    "diff = ser.diff()\n",
    "# Вычисление разности разностей\n",
    "diff_diff = ser.diff().diff()\n",
    "\n",
    "# Вывод результата\n",
    "print(diff)\n",
    "print(diff_diff)"
   ]
  },
  {
   "cell_type": "markdown",
   "metadata": {},
   "source": [
    "Задание 20\n",
    "==="
   ]
  },
  {
   "cell_type": "code",
   "execution_count": 61,
   "metadata": {},
   "outputs": [
    {
     "name": "stdout",
     "output_type": "stream",
     "text": [
      "0   2010-01-01 00:00:00\n",
      "1   2011-02-02 00:00:00\n",
      "2   2012-03-03 00:00:00\n",
      "3   2013-04-04 00:00:00\n",
      "4   2014-05-05 00:00:00\n",
      "5   2015-06-06 12:20:00\n",
      "dtype: datetime64[ns]\n"
     ]
    }
   ],
   "source": [
    "ser = pd.Series(['01 Jan 2010', '02-02-2011', '20120303', '2013/04/04', '2014-05-05', '2015-06-06T12:20'])\n",
    "\n",
    "# Преобразование каждого элемента в datetime64\n",
    "converted_dates = ser.apply(lambda x: pd.to_datetime(x, errors='coerce'))\n",
    "\n",
    "# Вывод результата\n",
    "print(converted_dates)"
   ]
  },
  {
   "cell_type": "markdown",
   "metadata": {},
   "source": [
    "Задание 21\n",
    "==="
   ]
  },
  {
   "cell_type": "code",
   "execution_count": 63,
   "metadata": {},
   "outputs": [
    {
     "name": "stdout",
     "output_type": "stream",
     "text": [
      "Date: [1, 2, 3, 4, 5, 6]\n",
      "Week number: [53, 5, 9, 14, 19, 23]\n",
      "Day num of year: [1, 33, 63, 94, 125, 157]\n",
      "Day of week: ['Friday', 'Wednesday', 'Saturday', 'Thursday', 'Monday', 'Saturday']\n"
     ]
    }
   ],
   "source": [
    "ser = pd.Series(['01 Jan 2010', '02-02-2011', '20120303', '2013/04/04', '2014-05-05', '2015-06-06T12:20'])\n",
    "\n",
    "# Преобразование каждого элемента в формат datetime64\n",
    "dates = ser.apply(lambda x: pd.to_datetime(x, errors='coerce'))\n",
    "\n",
    "# Извлечение необходимых компонентов\n",
    "day_of_month = dates.dt.day\n",
    "week_number = dates.dt.isocalendar().week\n",
    "day_num_of_year = dates.dt.dayofyear\n",
    "day_of_week = dates.dt.strftime('%A')\n",
    "\n",
    "# Вывод результата\n",
    "print(\"Date:\", day_of_month.tolist())\n",
    "print(\"Week number:\", week_number.tolist())\n",
    "print(\"Day num of year:\", day_num_of_year.tolist())\n",
    "print(\"Day of week:\", day_of_week.tolist())"
   ]
  },
  {
   "cell_type": "markdown",
   "metadata": {},
   "source": [
    "Задание 22\n",
    "==="
   ]
  },
  {
   "cell_type": "code",
   "execution_count": 64,
   "metadata": {},
   "outputs": [
    {
     "name": "stdout",
     "output_type": "stream",
     "text": [
      "0   2010-01-04\n",
      "1   2011-02-04\n",
      "2   2012-03-04\n",
      "dtype: datetime64[ns]\n"
     ]
    }
   ],
   "source": [
    "ser = pd.Series(['Jan 2010', 'Feb 2011', 'Mar 2012'])\n",
    "\n",
    "# Замена элементов на даты, начинающиеся с 4-го числа месяца\n",
    "result = pd.to_datetime(ser, format='%b %Y') + pd.to_timedelta('3D')\n",
    "\n",
    "# Вывод результата\n",
    "print(result)"
   ]
  },
  {
   "cell_type": "markdown",
   "metadata": {},
   "source": [
    "Задание 23\n",
    "==="
   ]
  },
  {
   "cell_type": "code",
   "execution_count": 68,
   "metadata": {},
   "outputs": [
    {
     "name": "stdout",
     "output_type": "stream",
     "text": [
      "0     Apple\n",
      "1    Orange\n",
      "3    Python\n",
      "4     Money\n",
      "dtype: object\n"
     ]
    }
   ],
   "source": [
    "ser = pd.Series(['Apple', 'Orange', 'Plan', 'Python', 'Money'])\n",
    "\n",
    "# Определение функции для проверки количества гласных в слове\n",
    "def count_vowels(word):\n",
    "    return sum(1 for letter in word if letter.lower() in 'aeiouy')\n",
    "\n",
    "# Извлечение слов с не менее чем 2 гласными буквами\n",
    "result = ser[ser.apply(count_vowels) >= 2]\n",
    "\n",
    "# Вывод результата\n",
    "print(result)"
   ]
  },
  {
   "cell_type": "markdown",
   "metadata": {},
   "source": [
    "Задание 24\n",
    "==="
   ]
  },
  {
   "cell_type": "code",
   "execution_count": 69,
   "metadata": {},
   "outputs": [
    {
     "name": "stdout",
     "output_type": "stream",
     "text": [
      "1    rameses@egypt.com\n",
      "2            matt@t.co\n",
      "3    narendra@modi.com\n",
      "dtype: object\n"
     ]
    }
   ],
   "source": [
    "emails = pd.Series(['buying books at amazom.com', 'rameses@egypt.com', 'matt@t.co', 'narendra@modi.com'])\n",
    "pattern ='[A-Za-z0-9._%+-]+@[A-Za-z0-9.-]+\\\\.[A-Za-z]{2,4}'\n",
    "\n",
    "# Извлечение корректных адресов электронной почты\n",
    "result = emails[emails.str.contains(pattern)]\n",
    "\n",
    "# Вывод результата\n",
    "print(result)"
   ]
  },
  {
   "cell_type": "markdown",
   "metadata": {},
   "source": [
    "Задание 25\n",
    "==="
   ]
  },
  {
   "cell_type": "code",
   "execution_count": 70,
   "metadata": {},
   "outputs": [
    {
     "name": "stdout",
     "output_type": "stream",
     "text": [
      "fruit\n",
      "apple     1.500000\n",
      "banana    7.666667\n",
      "carrot    5.800000\n",
      "Name: weight, dtype: float64\n"
     ]
    }
   ],
   "source": [
    "fruit = pd.Series(np.random.choice(['apple', 'banana', 'carrot'], 10))\n",
    "weights = pd.Series(np.linspace(1, 10, 10))\n",
    "\n",
    "# Создание датафрейма из двух рядов\n",
    "df = pd.DataFrame({'fruit': fruit, 'weight': weights})\n",
    "\n",
    "# Вычисление среднего значения веса для каждого фрукта\n",
    "average_weights = df.groupby('fruit')['weight'].mean()\n",
    "\n",
    "# Вывод результата\n",
    "print(average_weights)"
   ]
  },
  {
   "cell_type": "markdown",
   "metadata": {},
   "source": [
    "Задание 26\n",
    "==="
   ]
  },
  {
   "attachments": {
    "image.png": {
     "image/png": "[encoded data removed]"
    }
   },
   "cell_type": "markdown",
   "metadata": {},
   "source": [
    "![image.png](attachment:image.png)"
   ]
  },
  {
   "cell_type": "code",
   "execution_count": 71,
   "metadata": {},
   "outputs": [
    {
     "name": "stdout",
     "output_type": "stream",
     "text": [
      "18.166\n"
     ]
    }
   ],
   "source": [
    "p = pd.Series([1, 2, 3, 4, 5, 6, 7, 8, 9, 10])\n",
    "q = pd.Series([10, 9, 8, 7, 6, 5, 4, 3, 2, 1])\n",
    "\n",
    "# Вычисление евклидова расстояния\n",
    "euclidean_distance = ((p - q) ** 2).sum() ** 0.5\n",
    "\n",
    "# Вывод результата\n",
    "print(round(euclidean_distance, 3))"
   ]
  },
  {
   "cell_type": "markdown",
   "metadata": {},
   "source": [
    "Задание 27\n",
    "==="
   ]
  },
  {
   "cell_type": "code",
   "execution_count": 72,
   "metadata": {},
   "outputs": [
    {
     "name": "stdout",
     "output_type": "stream",
     "text": [
      "[1 5 7]\n"
     ]
    }
   ],
   "source": [
    "from scipy.signal import argrelextrema\n",
    "\n",
    "ser = pd.Series([2, 10, 3, 4, 9, 10, 2, 7, 3])\n",
    "\n",
    "# Находим локальные минимумы и максимумы\n",
    "local_maxima = argrelextrema(ser.values, np.greater)[0]\n",
    "\n",
    "# Вывод результата\n",
    "print(local_maxima)"
   ]
  },
  {
   "cell_type": "markdown",
   "metadata": {},
   "source": [
    "Задание 28\n",
    "==="
   ]
  },
  {
   "cell_type": "code",
   "execution_count": 74,
   "metadata": {},
   "outputs": [
    {
     "name": "stdout",
     "output_type": "stream",
     "text": [
      "dbccdebcabedcgade\n"
     ]
    }
   ],
   "source": [
    "from collections import Counter\n",
    "\n",
    "my_str = 'dbc deb abed gade'\n",
    "\n",
    "# Находим наименее часто встречающийся символ\n",
    "char_counts = Counter(my_str.replace(' ', ''))\n",
    "least_frequent_char = min(char_counts, key=char_counts.get)\n",
    "\n",
    "# Заменяем пробелы на наименее часто встречающийся символ\n",
    "result_str = my_str.replace(' ', least_frequent_char)\n",
    "\n",
    "# Вывод результата\n",
    "print(result_str)\n"
   ]
  },
  {
   "cell_type": "markdown",
   "metadata": {},
   "source": [
    "Задание 29\n",
    "==="
   ]
  },
  {
   "cell_type": "code",
   "execution_count": 75,
   "metadata": {},
   "outputs": [
    {
     "name": "stdout",
     "output_type": "stream",
     "text": [
      "2000-01-01    3\n",
      "2000-01-08    7\n",
      "2000-01-15    4\n",
      "2000-01-22    9\n",
      "2000-01-29    3\n",
      "2000-02-05    5\n",
      "2000-02-12    3\n",
      "2000-02-19    7\n",
      "2000-02-26    5\n",
      "2000-03-04    9\n",
      "Freq: W-SAT, dtype: int32\n"
     ]
    }
   ],
   "source": [
    "# Установка начальной даты\n",
    "start_date = '2000-01-01'\n",
    "\n",
    "# Создание временного ряда с 10 субботними днями и случайными значениями\n",
    "date_rng = pd.date_range(start=start_date, periods=10, freq='W-SAT')\n",
    "random_values = np.random.randint(1, 10, size=(10,))\n",
    "time_series = pd.Series(random_values, index=date_rng)\n",
    "\n",
    "# Вывод результата\n",
    "print(time_series)"
   ]
  },
  {
   "cell_type": "markdown",
   "metadata": {},
   "source": [
    "Задание 30\n",
    "==="
   ]
  },
  {
   "cell_type": "code",
   "execution_count": 76,
   "metadata": {},
   "outputs": [
    {
     "name": "stdout",
     "output_type": "stream",
     "text": [
      "2000-01-01     1.0\n",
      "2000-01-02     1.0\n",
      "2000-01-03    10.0\n",
      "2000-01-04    10.0\n",
      "2000-01-05    10.0\n",
      "2000-01-06     3.0\n",
      "2000-01-07     3.0\n",
      "2000-01-08     NaN\n",
      "Freq: D, dtype: float64\n"
     ]
    }
   ],
   "source": [
    "ser = pd.Series([1, 10, 3, np.nan], index=pd.to_datetime(['2000-01-01', '2000-01-03', '2000-01-06', '2000-01-08']))\n",
    "\n",
    "# Использование resample для заполнения отсутствующих дат\n",
    "ser_filled = ser.resample('D').ffill()\n",
    "\n",
    "# Вывод результата\n",
    "print(ser_filled)"
   ]
  },
  {
   "cell_type": "markdown",
   "metadata": {},
   "source": [
    "Задание 31\n",
    "==="
   ]
  },
  {
   "cell_type": "code",
   "execution_count": 80,
   "metadata": {},
   "outputs": [
    {
     "name": "stdout",
     "output_type": "stream",
     "text": [
      "[0.5148221193813554, 0.4054967374988806, 0.18609944252755536, 0.09461715411745447, 0.34790968663295474, 0.03494301441319155, 0.3812999862267855, 0.5779817403289766, 0.2731262924016321, 0.23652292743522546]\n",
      "Lag having highest correlation: 8\n"
     ]
    }
   ],
   "source": [
    "ser = pd.Series(np.arange(20) + np.random.normal(1, 10, 20))\n",
    "\n",
    "# Вычисление автокорреляций для первых 10 лагов\n",
    "autocorrelations = [ser.autocorr(lag=i) for i in range(1, 11)]\n",
    "\n",
    "# Определение лага с наибольшей корреляцией\n",
    "max_correlation_lag = np.argmax(np.abs(autocorrelations)) + 1\n",
    "\n",
    "# Вывод результатов\n",
    "print(autocorrelations)\n",
    "print(\"Lag having highest correlation:\", max_correlation_lag)"
   ]
  },
  {
   "cell_type": "markdown",
   "metadata": {},
   "source": [
    "Задание 32\n",
    "==="
   ]
  },
  {
   "cell_type": "code",
   "execution_count": 81,
   "metadata": {},
   "outputs": [
    {
     "name": "stdout",
     "output_type": "stream",
     "text": [
      "      crim  zn  indus  chas    nox     rm   age     dis  rad  tax  ptratio  \\\n",
      "0  0.21977   0   6.91     0  0.448  5.602  62.0  6.0877    3  233     17.9   \n",
      "1  0.06860   0   2.89     0  0.445  7.416  62.5  3.4952    2  276     18.0   \n",
      "2  2.73397   0  19.58     0  0.871  5.597  94.9  1.5257    5  403     14.7   \n",
      "3  0.03150  95   1.47     0  0.403  6.975  15.3  7.6534    3  402     17.0   \n",
      "4  0.19073  22   5.86     0  0.431  6.718  17.5  7.8265    7  330     19.1   \n",
      "5  0.05561  70   2.24     0  0.400  7.041  10.0  7.8278    5  358     14.8   \n",
      "6  0.02899  40   1.25     0  0.429  6.939  34.5  8.7921    1  335     19.7   \n",
      "7  9.91655   0  18.10     0  0.693  5.852  77.8  1.5004   24  666     20.2   \n",
      "8  7.52601   0  18.10     0  0.713  6.417  98.3  2.1850   24  666     20.2   \n",
      "9  0.17783   0   9.69     0  0.585  5.569  73.5  2.3999    6  391     19.2   \n",
      "\n",
      "        b  lstat  medv  \n",
      "0  396.90  16.20  19.4  \n",
      "1  396.90   6.19  33.2  \n",
      "2  351.85  21.45  15.4  \n",
      "3  396.90   4.56  34.9  \n",
      "4  393.74   6.56  26.2  \n",
      "5  371.58   4.74  29.0  \n",
      "6  389.85   5.89  26.6  \n",
      "7  338.16  29.97   6.3  \n",
      "8  304.21  19.31  13.0  \n",
      "9  395.77  15.10  17.5  \n"
     ]
    }
   ],
   "source": [
    "# URL набора данных\n",
    "url = 'https://raw.githubusercontent.com/selva86/datasets/master/BostonHousing.csv'\n",
    "\n",
    "# Импорт каждой 50-й строки в виде датафрейма\n",
    "df = pd.read_csv(url, skiprows=lambda x: x % 50 != 0)\n",
    "\n",
    "# Вывод результата\n",
    "print(df)"
   ]
  },
  {
   "cell_type": "markdown",
   "metadata": {},
   "source": [
    "Задание 33\n",
    "==="
   ]
  },
  {
   "cell_type": "code",
   "execution_count": 82,
   "metadata": {},
   "outputs": [
    {
     "name": "stdout",
     "output_type": "stream",
     "text": [
      "        crim    zn  indus  chas    nox     rm   age     dis  rad  tax  \\\n",
      "0    0.00632  18.0   2.31     0  0.538  6.575  65.2  4.0900    1  296   \n",
      "1    0.02731   0.0   7.07     0  0.469  6.421  78.9  4.9671    2  242   \n",
      "2    0.02729   0.0   7.07     0  0.469  7.185  61.1  4.9671    2  242   \n",
      "3    0.03237   0.0   2.18     0  0.458  6.998  45.8  6.0622    3  222   \n",
      "4    0.06905   0.0   2.18     0  0.458  7.147  54.2  6.0622    3  222   \n",
      "..       ...   ...    ...   ...    ...    ...   ...     ...  ...  ...   \n",
      "501  0.06263   0.0  11.93     0  0.573  6.593  69.1  2.4786    1  273   \n",
      "502  0.04527   0.0  11.93     0  0.573  6.120  76.7  2.2875    1  273   \n",
      "503  0.06076   0.0  11.93     0  0.573  6.976  91.0  2.1675    1  273   \n",
      "504  0.10959   0.0  11.93     0  0.573  6.794  89.3  2.3889    1  273   \n",
      "505  0.04741   0.0  11.93     0  0.573  6.030  80.8  2.5050    1  273   \n",
      "\n",
      "     ptratio       b  lstat  medv  \n",
      "0       15.3  396.90   4.98   Low  \n",
      "1       17.8  396.90   9.14   Low  \n",
      "2       17.8  392.83   4.03  High  \n",
      "3       18.7  394.63   2.94  High  \n",
      "4       18.7  396.90   5.33  High  \n",
      "..       ...     ...    ...   ...  \n",
      "501     21.0  391.99   9.67   Low  \n",
      "502     21.0  396.90   9.08   Low  \n",
      "503     21.0  396.90   5.64   Low  \n",
      "504     21.0  393.45   6.48   Low  \n",
      "505     21.0  396.90   7.88   Low  \n",
      "\n",
      "[506 rows x 14 columns]\n"
     ]
    }
   ],
   "source": [
    "# URL набора данных\n",
    "url = 'https://raw.githubusercontent.com/selva86/datasets/master/BostonHousing.csv'\n",
    "\n",
    "# Импорт данных\n",
    "df = pd.read_csv(url)\n",
    "\n",
    "# Изменение столбца 'medv'\n",
    "df['medv'] = pd.cut(df['medv'], bins=[-float('inf'), 25, float('inf')], labels=['Low', 'High'])\n",
    "\n",
    "# Вывод результата\n",
    "print(df)"
   ]
  },
  {
   "cell_type": "markdown",
   "metadata": {},
   "source": [
    "Задание 34\n",
    "==="
   ]
  },
  {
   "cell_type": "code",
   "execution_count": 83,
   "metadata": {},
   "outputs": [
    {
     "name": "stdout",
     "output_type": "stream",
     "text": [
      "    0   1   2   3\n",
      "0   0   1   2   3\n",
      "1   2   3   4   5\n",
      "2   4   5   6   7\n",
      "3   6   7   8   9\n",
      "4   8   9  10  11\n",
      "5  10  11  12  13\n"
     ]
    }
   ],
   "source": [
    "# Заданный ряд\n",
    "L = pd.Series(range(15))\n",
    "\n",
    "# Создание датафрейма со строками в виде шагов\n",
    "df = pd.DataFrame([L[i:i+4].values for i in range(0, len(L)-3, 2)])\n",
    "\n",
    "# Вывод результата\n",
    "print(df)"
   ]
  },
  {
   "cell_type": "markdown",
   "metadata": {},
   "source": [
    "Задание 35\n",
    "==="
   ]
  },
  {
   "cell_type": "code",
   "execution_count": 84,
   "metadata": {},
   "outputs": [
    {
     "name": "stdout",
     "output_type": "stream",
     "text": [
      "        crim  medv\n",
      "0    0.00632  24.0\n",
      "1    0.02731  21.6\n",
      "2    0.02729  34.7\n",
      "3    0.03237  33.4\n",
      "4    0.06905  36.2\n",
      "..       ...   ...\n",
      "501  0.06263  22.4\n",
      "502  0.04527  20.6\n",
      "503  0.06076  23.9\n",
      "504  0.10959  22.0\n",
      "505  0.04741  11.9\n",
      "\n",
      "[506 rows x 2 columns]\n"
     ]
    }
   ],
   "source": [
    "# URL набора данных\n",
    "url = 'https://raw.githubusercontent.com/selva86/datasets/master/BostonHousing.csv'\n",
    "\n",
    "# Импорт только столбцов 'crim' и 'medv'\n",
    "df = pd.read_csv(url, usecols=['crim', 'medv'])\n",
    "\n",
    "# Вывод результата\n",
    "print(df)"
   ]
  },
  {
   "cell_type": "markdown",
   "metadata": {},
   "source": [
    "Задание 36\n",
    "==="
   ]
  },
  {
   "cell_type": "code",
   "execution_count": 85,
   "metadata": {},
   "outputs": [
    {
     "name": "stdout",
     "output_type": "stream",
     "text": [
      "<class 'pandas.core.frame.DataFrame'>\n",
      "RangeIndex: 93 entries, 0 to 92\n",
      "Data columns (total 27 columns):\n",
      " #   Column              Non-Null Count  Dtype  \n",
      "---  ------              --------------  -----  \n",
      " 0   Manufacturer        89 non-null     object \n",
      " 1   Model               92 non-null     object \n",
      " 2   Type                90 non-null     object \n",
      " 3   Min.Price           86 non-null     float64\n",
      " 4   Price               91 non-null     float64\n",
      " 5   Max.Price           88 non-null     float64\n",
      " 6   MPG.city            84 non-null     float64\n",
      " 7   MPG.highway         91 non-null     float64\n",
      " 8   AirBags             55 non-null     object \n",
      " 9   DriveTrain          86 non-null     object \n",
      " 10  Cylinders           88 non-null     object \n",
      " 11  EngineSize          91 non-null     float64\n",
      " 12  Horsepower          86 non-null     float64\n",
      " 13  RPM                 90 non-null     float64\n",
      " 14  Rev.per.mile        87 non-null     float64\n",
      " 15  Man.trans.avail     88 non-null     object \n",
      " 16  Fuel.tank.capacity  85 non-null     float64\n",
      " 17  Passengers          91 non-null     float64\n",
      " 18  Length              89 non-null     float64\n",
      " 19  Wheelbase           92 non-null     float64\n",
      " 20  Width               87 non-null     float64\n",
      " 21  Turn.circle         88 non-null     float64\n",
      " 22  Rear.seat.room      89 non-null     float64\n",
      " 23  Luggage.room        74 non-null     float64\n",
      " 24  Weight              86 non-null     float64\n",
      " 25  Origin              88 non-null     object \n",
      " 26  Make                90 non-null     object \n",
      "dtypes: float64(18), object(9)\n",
      "memory usage: 19.7+ KB\n",
      "Информация о датафрейме:\n",
      "None\n",
      "\n",
      "Эквивалент в виде numpy-массива:\n",
      "[['Acura' 'Integra' 'Small' ... 2705.0 'non-USA' 'Acura Integra']\n",
      " [nan 'Legend' 'Midsize' ... 3560.0 'non-USA' 'Acura Legend']\n",
      " ['Audi' '90' 'Compact' ... 3375.0 'non-USA' 'Audi 90']\n",
      " ...\n",
      " ['Volkswagen' 'Corrado' 'Sporty' ... 2810.0 'non-USA'\n",
      "  'Volkswagen Corrado']\n",
      " ['Volvo' '240' 'Compact' ... 2985.0 'non-USA' 'Volvo 240']\n",
      " [nan '850' 'Midsize' ... 3245.0 'non-USA' 'Volvo 850']]\n",
      "\n",
      "Эквивалент в виде списка:\n",
      "[['Acura', 'Integra', 'Small', 12.9, 15.9, 18.8, 25.0, 31.0, nan, 'Front', '4', 1.8, 140.0, 6300.0, 2890.0, 'Yes', 13.2, 5.0, 177.0, 102.0, 68.0, 37.0, 26.5, nan, 2705.0, 'non-USA', 'Acura Integra'], [nan, 'Legend', 'Midsize', 29.2, 33.9, 38.7, 18.0, 25.0, 'Driver & Passenger', 'Front', '6', 3.2, 200.0, 5500.0, 2335.0, 'Yes', 18.0, 5.0, 195.0, 115.0, 71.0, 38.0, 30.0, 15.0, 3560.0, 'non-USA', 'Acura Legend'], ['Audi', '90', 'Compact', 25.9, 29.1, 32.3, 20.0, 26.0, 'Driver only', 'Front', '6', 2.8, 172.0, 5500.0, 2280.0, 'Yes', 16.9, 5.0, 180.0, 102.0, 67.0, 37.0, 28.0, 14.0, 3375.0, 'non-USA', 'Audi 90'], ['Audi', '100', 'Midsize', nan, 37.7, 44.6, 19.0, 26.0, 'Driver & Passenger', nan, '6', nan, 172.0, 5500.0, 2535.0, nan, 21.1, 6.0, 193.0, 106.0, nan, 37.0, 31.0, 17.0, 3405.0, 'non-USA', 'Audi 100'], ['BMW', '535i', 'Midsize', nan, 30.0, nan, 22.0, 30.0, nan, 'Rear', '4', 3.5, 208.0, 5700.0, 2545.0, 'Yes', 21.1, 4.0, 186.0, 109.0, 69.0, 39.0, 27.0, 13.0, 3640.0, 'non-USA', 'BMW 535i'], ['Buick', 'Century', 'Midsize', 14.2, 15.7, 17.3, 22.0, 31.0, 'Driver only', nan, '4', 2.2, 110.0, 5200.0, 2565.0, 'No', 16.4, 6.0, 189.0, 105.0, 69.0, 41.0, 28.0, 16.0, nan, 'USA', 'Buick Century'], ['Buick', 'LeSabre', 'Large', 19.9, 20.8, nan, 19.0, 28.0, 'Driver only', 'Front', '6', 3.8, 170.0, 4800.0, nan, 'No', nan, 6.0, 200.0, 111.0, 74.0, 42.0, 30.5, 17.0, 3470.0, 'USA', 'Buick LeSabre'], ['Buick', 'Roadmaster', 'Large', 22.6, 23.7, 24.9, 16.0, 25.0, 'Driver only', 'Rear', '6', 5.7, 180.0, 4000.0, 1320.0, 'No', 23.0, 6.0, 216.0, 116.0, 78.0, 45.0, 30.5, 21.0, 4105.0, 'USA', 'Buick Roadmaster'], ['Buick', 'Riviera', 'Midsize', 26.3, 26.3, 26.3, 19.0, 27.0, 'Driver only', 'Front', '6', 3.8, 170.0, 4800.0, 1690.0, 'No', 18.8, 5.0, 198.0, 108.0, nan, 41.0, 26.5, 14.0, 3495.0, 'USA', 'Buick Riviera'], ['Cadillac', 'DeVille', 'Large', 33.0, 34.7, 36.3, 16.0, 25.0, 'Driver only', 'Front', '8', 4.9, 200.0, 4100.0, nan, 'No', 18.0, 6.0, 206.0, 114.0, 73.0, 43.0, 35.0, 18.0, 3620.0, 'USA', 'Cadillac DeVille'], ['Cadillac', 'Seville', 'Midsize', 37.5, 40.1, 42.7, 16.0, 25.0, 'Driver & Passenger', 'Front', '8', 4.6, 295.0, 6000.0, 1985.0, 'No', 20.0, 5.0, 204.0, 111.0, 74.0, 44.0, 31.0, nan, 3935.0, 'USA', 'Cadillac Seville'], ['Chevrolet', 'Cavalier', 'Compact', 8.5, 13.4, 18.3, 25.0, 36.0, nan, nan, '4', 2.2, nan, 5200.0, 2380.0, 'Yes', 15.2, 5.0, 182.0, 101.0, 66.0, 38.0, 25.0, 13.0, 2490.0, 'USA', 'Chevrolet Cavalier'], ['Chevrolet', 'Corsica', 'Compact', 11.4, 11.4, 11.4, 25.0, 34.0, 'Driver only', 'Front', nan, 2.2, 110.0, 5200.0, 2665.0, 'Yes', 15.6, 5.0, 184.0, 103.0, 68.0, 39.0, 26.0, nan, 2785.0, 'USA', 'Chevrolet Corsica'], ['Chevrolet', 'Camaro', 'Sporty', 13.4, 15.1, 16.8, 19.0, 28.0, 'Driver & Passenger', 'Rear', nan, 3.4, 160.0, 4600.0, 1805.0, 'Yes', nan, 4.0, 193.0, 101.0, 74.0, 43.0, 25.0, 13.0, 3240.0, 'USA', 'Chevrolet Camaro'], ['Chevrolet', 'Lumina', 'Midsize', 13.4, 15.9, 18.4, nan, 29.0, nan, 'Front', '4', 2.2, nan, 5200.0, 2595.0, 'No', 16.5, 6.0, nan, 108.0, 71.0, nan, 28.5, 16.0, 3195.0, 'USA', 'Chevrolet Lumina'], ['Chevrolet', 'Lumina_APV', 'Van', 14.7, 16.3, 18.0, 18.0, 23.0, nan, 'Front', '6', 3.8, 170.0, 4800.0, 1690.0, 'No', 20.0, 7.0, 178.0, 110.0, 74.0, 44.0, 30.5, nan, 3715.0, 'USA', 'Chevrolet Lumina_APV'], ['Chevrolet', 'Astro', 'Van', 14.7, 16.6, 18.6, 15.0, 20.0, nan, '4WD', '6', 4.3, nan, 4000.0, 1790.0, 'No', 27.0, 8.0, 194.0, 111.0, 78.0, 42.0, 33.5, nan, 4025.0, 'USA', 'Chevrolet Astro'], ['Chevrolet', 'Caprice', 'Large', 18.0, 18.8, 19.6, 17.0, 26.0, 'Driver only', 'Rear', '8', 5.0, 170.0, 4200.0, 1350.0, 'No', 23.0, 6.0, 214.0, 116.0, 77.0, 42.0, 29.5, 20.0, 3910.0, 'USA', 'Chevrolet Caprice'], ['Chevrolet', 'Corvette', 'Sporty', 34.6, 38.0, 41.5, 17.0, 25.0, 'Driver only', 'Rear', '8', 5.7, 300.0, 5000.0, 1450.0, 'Yes', 20.0, 2.0, 179.0, 96.0, 74.0, 43.0, nan, nan, 3380.0, nan, 'Chevrolet Corvette'], [nan, 'Concorde', 'Large', 18.4, 18.4, 18.4, 20.0, 28.0, 'Driver & Passenger', 'Front', '6', 3.3, 153.0, 5300.0, 1990.0, 'No', 18.0, 6.0, 203.0, 113.0, 74.0, nan, 31.0, 15.0, 3515.0, 'USA', 'Chrylser Concorde'], ['Chrysler', 'LeBaron', 'Compact', 14.5, 15.8, 17.1, 23.0, 28.0, 'Driver & Passenger', 'Front', '4', 3.0, 141.0, 5000.0, 2090.0, 'No', 16.0, 6.0, 183.0, 104.0, 68.0, 41.0, 30.5, 14.0, 3085.0, 'USA', 'Chrysler LeBaron'], ['Chrysler', 'Imperial', 'Large', 29.5, 29.5, 29.5, 20.0, 26.0, 'Driver only', 'Front', '6', 3.3, 147.0, 4800.0, 1785.0, 'No', 16.0, 6.0, 203.0, 110.0, 69.0, 44.0, 36.0, 17.0, 3570.0, 'USA', 'Chrysler Imperial'], ['Dodge', 'Colt', 'Small', 7.9, 9.2, 10.6, 29.0, 33.0, nan, 'Front', '4', 1.5, 92.0, 6000.0, 3285.0, 'Yes', nan, 5.0, 174.0, 98.0, 66.0, 32.0, nan, 11.0, 2270.0, 'USA', 'Dodge Colt'], ['Dodge', 'Shadow', 'Small', 8.4, 11.3, 14.2, 23.0, 29.0, 'Driver only', 'Front', '4', 2.2, 93.0, 4800.0, nan, 'Yes', 14.0, 5.0, 172.0, 97.0, 67.0, 38.0, 26.5, nan, 2670.0, 'USA', 'Dodge Shadow'], ['Dodge', 'Spirit', 'Compact', 11.9, 13.3, 14.7, 22.0, 27.0, 'Driver only', 'Front', '4', 2.5, 100.0, 4800.0, 2535.0, 'Yes', nan, 6.0, 181.0, 104.0, 68.0, 39.0, 30.5, nan, 2970.0, 'USA', 'Dodge Spirit'], ['Dodge', 'Caravan', 'Van', nan, 19.0, 24.4, 17.0, 21.0, 'Driver only', '4WD', '6', 3.0, 142.0, 5000.0, 1970.0, 'No', 20.0, 7.0, 175.0, 112.0, 72.0, 42.0, 26.5, nan, 3705.0, 'USA', 'Dodge Caravan'], ['Dodge', 'Dynasty', 'Midsize', 14.8, 15.6, 16.4, 21.0, nan, 'Driver only', 'Front', nan, 2.5, 100.0, 4800.0, 2465.0, 'No', 16.0, 6.0, 192.0, 105.0, 69.0, 42.0, 30.5, 16.0, 3080.0, 'USA', 'Dodge Dynasty'], ['Dodge', 'Stealth', 'Sporty', 18.5, 25.8, 33.1, nan, 24.0, 'Driver only', '4WD', '6', 3.0, 300.0, 6000.0, 2120.0, 'Yes', 19.8, 4.0, 180.0, 97.0, nan, 40.0, 20.0, 11.0, 3805.0, 'USA', 'Dodge Stealth'], ['Eagle', 'Summit', 'Small', 7.9, 12.2, 16.5, 29.0, 33.0, nan, 'Front', '4', 1.5, 92.0, 6000.0, 2505.0, 'Yes', 13.2, 5.0, 174.0, 98.0, 66.0, 36.0, 26.5, 11.0, 2295.0, 'USA', 'Eagle Summit'], ['Eagle', 'Vision', 'Large', nan, 19.3, 21.2, 20.0, 28.0, 'Driver & Passenger', 'Front', '6', 3.5, nan, 5800.0, 1980.0, 'No', 18.0, 6.0, 202.0, 113.0, 74.0, 40.0, 30.0, 15.0, 3490.0, 'USA', 'Eagle Vision'], ['Ford', 'Festiva', 'Small', 6.9, 7.4, 7.9, 31.0, 33.0, nan, 'Front', '4', 1.3, 63.0, 5000.0, 3150.0, 'Yes', 10.0, 4.0, 141.0, 90.0, 63.0, 33.0, 26.0, 12.0, 1845.0, 'USA', 'Ford Festiva'], ['Ford', 'Escort', 'Small', 8.4, 10.1, 11.9, 23.0, 30.0, nan, 'Front', '4', 1.8, 127.0, 6500.0, 2410.0, nan, 13.2, 5.0, 171.0, 98.0, 67.0, 36.0, 28.0, 12.0, 2530.0, 'USA', 'Ford Escort'], ['Ford', 'Tempo', 'Compact', 10.4, 11.3, 12.2, 22.0, 27.0, nan, 'Front', '4', 2.3, 96.0, 4200.0, 2805.0, 'Yes', 15.9, 5.0, 177.0, 100.0, 68.0, nan, 27.5, 13.0, nan, 'USA', nan], ['Ford', 'Mustang', 'Sporty', 10.8, 15.9, 21.0, 22.0, 29.0, 'Driver only', 'Rear', '4', 2.3, 105.0, 4600.0, 2285.0, 'Yes', 15.4, 4.0, 180.0, 101.0, 68.0, 40.0, 24.0, 12.0, nan, 'USA', 'Ford Mustang'], ['Ford', 'Probe', 'Sporty', 12.8, 14.0, 15.2, nan, 30.0, 'Driver only', 'Front', '4', 2.0, 115.0, 5500.0, 2340.0, 'Yes', 15.5, 4.0, 179.0, 103.0, 70.0, 38.0, 23.0, 18.0, 2710.0, 'USA', 'Ford Probe'], ['Ford', 'Aerostar', 'Van', 14.5, 19.9, 25.3, 15.0, 20.0, 'Driver only', '4WD', '6', 3.0, 145.0, 4800.0, 2080.0, 'Yes', 21.0, 7.0, 176.0, 119.0, 72.0, 45.0, 30.0, nan, 3735.0, 'USA', 'Ford Aerostar'], ['Ford', 'Taurus', 'Midsize', 15.6, 20.2, 24.8, 21.0, 30.0, 'Driver only', 'Front', '6', 3.0, nan, 4800.0, 1885.0, 'No', nan, 5.0, 192.0, 106.0, 71.0, 40.0, 27.5, 18.0, 3325.0, 'USA', 'Ford Taurus'], ['Ford', 'Crown_Victoria', 'Large', 20.1, 20.9, 21.7, 18.0, 26.0, 'Driver only', 'Rear', '8', 4.6, 190.0, 4200.0, nan, 'No', 20.0, 6.0, 212.0, 114.0, 78.0, 43.0, 30.0, 21.0, 3950.0, 'USA', 'Ford Crown_Victoria'], ['Geo', 'Metro', 'Small', 6.7, 8.4, 10.0, 46.0, 50.0, nan, 'Front', '3', 1.0, 55.0, 5700.0, 3755.0, nan, 10.6, 4.0, 151.0, 93.0, 63.0, 34.0, 27.5, 10.0, 1695.0, 'non-USA', 'Geo Metro'], ['Geo', 'Storm', 'Sporty', 11.5, 12.5, 13.5, 30.0, 36.0, 'Driver only', 'Front', '4', 1.6, 90.0, 5400.0, 3250.0, 'Yes', 12.4, 4.0, 164.0, 97.0, nan, 37.0, 24.5, 11.0, 2475.0, 'non-USA', 'Geo Storm'], ['Honda', 'Prelude', 'Sporty', 17.0, 19.8, 22.7, 24.0, 31.0, 'Driver & Passenger', 'Front', '4', 2.3, 160.0, 5800.0, 2855.0, 'Yes', nan, 4.0, 175.0, 100.0, 70.0, 39.0, 23.5, 8.0, 2865.0, 'non-USA', 'Honda Prelude'], ['Honda', 'Civic', 'Small', 8.4, 12.1, 15.8, 42.0, 46.0, 'Driver only', 'Front', '4', 1.5, nan, 5900.0, 2650.0, 'Yes', 11.9, 4.0, 173.0, nan, 67.0, 36.0, 28.0, 12.0, nan, 'non-USA', 'Honda Civic'], ['Honda', 'Accord', 'Compact', 13.8, 17.5, 21.2, 24.0, 31.0, 'Driver & Passenger', 'Front', '4', 2.2, 140.0, 5600.0, nan, 'Yes', 17.0, 4.0, 185.0, 107.0, 67.0, 41.0, 28.0, 14.0, 3040.0, 'non-USA', 'Honda Accord'], ['Hyundai', 'Excel', 'Small', 6.8, 8.0, 9.2, 29.0, 33.0, nan, 'Front', '4', 1.5, 81.0, 5500.0, 2710.0, 'Yes', 11.9, 5.0, 168.0, 94.0, 63.0, 35.0, 26.0, 11.0, 2345.0, 'non-USA', 'Hyundai Excel'], ['Hyundai', 'Elantra', 'Small', 9.0, 10.0, 11.0, nan, 29.0, nan, 'Front', '4', 1.8, 124.0, 6000.0, 2745.0, 'Yes', 13.7, 5.0, 172.0, 98.0, 66.0, 36.0, 28.0, 12.0, 2620.0, 'non-USA', 'Hyundai Elantra'], ['Hyundai', 'Scoupe', nan, 9.1, 10.0, 11.0, 26.0, 34.0, nan, 'Front', '4', 1.5, 92.0, 5550.0, 2540.0, 'Yes', 11.9, 4.0, 166.0, 94.0, 64.0, 34.0, 23.5, 9.0, 2285.0, 'non-USA', nan], ['Hyundai', 'Sonata', 'Midsize', 12.4, 13.9, 15.3, 20.0, 27.0, nan, 'Front', '4', 2.0, 128.0, 6000.0, 2335.0, 'Yes', 17.2, 5.0, 184.0, 104.0, 69.0, 41.0, 31.0, nan, 2885.0, nan, 'Hyundai Sonata'], ['Infiniti', 'Q45', 'Midsize', 45.4, 47.9, nan, 17.0, 22.0, nan, 'Rear', '8', 4.5, 278.0, 6000.0, 1955.0, 'No', 22.5, 5.0, 200.0, 113.0, 72.0, 42.0, 29.0, 15.0, 4000.0, 'non-USA', 'Infiniti Q45'], ['Lexus', 'ES300', 'Midsize', 27.5, 28.0, 28.4, 18.0, 24.0, 'Driver only', 'Front', '6', 3.0, 185.0, nan, 2325.0, 'Yes', 18.5, 5.0, 188.0, 103.0, 70.0, 40.0, 27.5, 14.0, 3510.0, 'non-USA', 'Lexus ES300'], [nan, 'SC300', 'Midsize', 34.7, 35.2, 35.6, 18.0, 23.0, 'Driver & Passenger', 'Rear', '6', 3.0, 225.0, 6000.0, 2510.0, 'Yes', nan, 4.0, 191.0, 106.0, 71.0, 39.0, 25.0, 9.0, 3515.0, 'non-USA', 'Lexus SC300'], ['Lincoln', 'Continental', 'Midsize', 33.3, 34.3, 35.3, 17.0, 26.0, 'Driver & Passenger', nan, '6', 3.8, 160.0, 4400.0, 1835.0, 'No', 18.4, 6.0, 205.0, 109.0, 73.0, 42.0, 30.0, 19.0, 3695.0, 'USA', 'Lincoln Continental'], ['Lincoln', 'Town_Car', 'Large', 34.4, 36.1, 37.8, 18.0, 26.0, 'Driver & Passenger', 'Rear', '8', 4.6, 210.0, 4600.0, 1840.0, 'No', 20.0, nan, 219.0, 117.0, 77.0, 45.0, 31.5, 22.0, 4055.0, 'USA', 'Lincoln Town_Car'], ['Mazda', '323', 'Small', 7.4, 8.3, 9.1, 29.0, 37.0, nan, 'Front', '4', 1.6, 82.0, 5000.0, 2370.0, 'Yes', 13.2, 4.0, 164.0, 97.0, 66.0, 34.0, 27.0, 16.0, 2325.0, 'non-USA', 'Mazda 323'], ['Mazda', 'Protege', 'Small', 10.9, 11.6, 12.3, 28.0, 36.0, nan, 'Front', '4', 1.8, 103.0, 5500.0, 2220.0, 'Yes', 14.5, 5.0, 172.0, 98.0, 66.0, 36.0, 26.5, 13.0, 2440.0, 'non-USA', 'Mazda Protege'], ['Mazda', '626', 'Compact', 14.3, 16.5, 18.7, 26.0, 34.0, 'Driver only', 'Front', '4', 2.5, 164.0, 5600.0, 2505.0, 'Yes', 15.5, 5.0, 184.0, 103.0, 69.0, 40.0, 29.5, 14.0, 2970.0, 'non-USA', 'Mazda 626'], ['Mazda', 'MPV', 'Van', 16.6, 19.1, 21.7, 18.0, 24.0, nan, '4WD', '6', 3.0, 155.0, 5000.0, 2240.0, 'No', 19.6, 7.0, 190.0, 110.0, 72.0, 39.0, 27.5, nan, 3735.0, 'non-USA', 'Mazda MPV'], ['Mazda', 'RX-7', 'Sporty', 32.5, 32.5, 32.5, 17.0, 25.0, 'Driver only', nan, 'rotary', 1.3, 255.0, 6500.0, 2325.0, 'Yes', 20.0, 2.0, 169.0, 96.0, 69.0, nan, nan, nan, nan, 'non-USA', 'Mazda RX-7'], ['Mercedes-Benz', '190E', 'Compact', 29.0, 31.9, 34.9, nan, 29.0, 'Driver only', 'Rear', '4', 2.3, 130.0, 5100.0, 2425.0, 'Yes', 14.5, 5.0, 175.0, 105.0, 67.0, 34.0, 26.0, 12.0, 2920.0, nan, 'Mercedes-Benz 190E'], ['Mercedes-Benz', '300E', 'Midsize', 43.8, 61.9, 80.0, 19.0, 25.0, 'Driver & Passenger', 'Rear', '6', 3.2, 217.0, 5500.0, 2220.0, 'No', 18.5, 5.0, nan, 110.0, 69.0, 37.0, nan, 15.0, 3525.0, 'non-USA', 'Mercedes-Benz 300E'], ['Mercury', nan, 'Sporty', 13.3, 14.1, 15.0, 23.0, 26.0, 'Driver only', 'Front', '4', 1.6, 100.0, 5750.0, 2475.0, 'Yes', 11.1, 4.0, 166.0, 95.0, 65.0, 36.0, 19.0, 6.0, 2450.0, 'USA', 'Mercury Capri'], ['Mercury', 'Cougar', 'Midsize', 14.9, 14.9, 14.9, 19.0, 26.0, nan, 'Rear', '6', 3.8, 140.0, 3800.0, 1730.0, 'No', 18.0, 5.0, 199.0, 113.0, 73.0, 38.0, 28.0, 15.0, 3610.0, 'USA', 'Mercury Cougar'], ['Mitsubishi', 'Mirage', 'Small', 7.7, 10.3, 12.9, 29.0, nan, nan, 'Front', '4', 1.5, 92.0, 6000.0, 2505.0, 'Yes', 13.2, 5.0, 172.0, 98.0, 67.0, 36.0, 26.0, 11.0, 2295.0, 'non-USA', 'Mitsubishi Mirage'], ['Mitsubishi', 'Diamante', 'Midsize', 22.4, 26.1, nan, 18.0, 24.0, 'Driver only', 'Front', '6', 3.0, 202.0, 6000.0, 2210.0, 'No', 19.0, 5.0, 190.0, 107.0, 70.0, 43.0, 27.5, 14.0, 3730.0, 'non-USA', 'Mitsubishi Diamante'], ['Nissan', 'Sentra', 'Small', 8.7, 11.8, 14.9, 29.0, 33.0, 'Driver only', 'Front', nan, 1.6, 110.0, 6000.0, 2435.0, 'Yes', 13.2, 5.0, 170.0, 96.0, 66.0, 33.0, 26.0, nan, nan, 'non-USA', 'Nissan Sentra'], ['Nissan', 'Altima', 'Compact', 13.0, 15.7, 18.3, 24.0, 30.0, 'Driver only', 'Front', '4', 2.4, 150.0, 5600.0, 2130.0, 'Yes', 15.9, 5.0, 181.0, 103.0, 67.0, 40.0, 28.5, 14.0, 3050.0, 'non-USA', 'Nissan Altima'], ['Nissan', 'Quest', 'Van', 16.7, 19.1, 21.5, 17.0, 23.0, nan, 'Front', '6', 3.0, nan, 4800.0, 2065.0, 'No', 20.0, 7.0, 190.0, 112.0, 74.0, 41.0, 27.0, nan, 4100.0, 'non-USA', 'Nissan Quest'], ['Nissan', 'Maxima', 'Midsize', 21.0, 21.5, 22.0, 21.0, 26.0, 'Driver only', 'Front', '6', 3.0, 160.0, 5200.0, 2045.0, nan, 18.5, 5.0, 188.0, 104.0, 69.0, 41.0, 28.5, 14.0, 3200.0, 'non-USA', 'Nissan Maxima'], ['Oldsmobile', 'Achieva', 'Compact', 13.0, 13.5, 14.0, 24.0, 31.0, nan, 'Front', '4', 2.3, 155.0, 6000.0, 2380.0, 'No', 15.2, 5.0, 188.0, 103.0, 67.0, 39.0, 28.0, 14.0, 2910.0, 'USA', 'Oldsmobile Achieva'], ['Oldsmobile', 'Cutlass_Ciera', 'Midsize', 14.2, 16.3, 18.4, 23.0, 31.0, 'Driver only', 'Front', '4', 2.2, 110.0, 5200.0, 2565.0, 'No', nan, 5.0, 190.0, 105.0, 70.0, 42.0, 28.0, 16.0, 2890.0, 'USA', 'Oldsmobile Cutlass_Ciera'], ['Oldsmobile', 'Silhouette', 'Van', 19.5, 19.5, 19.5, 18.0, 23.0, nan, 'Front', '6', 3.8, 170.0, 4800.0, 1690.0, 'No', 20.0, 7.0, nan, 110.0, 74.0, 44.0, 30.5, nan, 3715.0, 'USA', 'Oldsmobile Silhouette'], ['Oldsmobile', 'Eighty-Eight', 'Large', 19.5, 20.7, 21.9, nan, 28.0, 'Driver only', 'Front', '6', 3.8, 170.0, 4800.0, 1570.0, 'No', 18.0, 6.0, 201.0, 111.0, 74.0, 42.0, 31.5, 17.0, 3470.0, 'USA', 'Oldsmobile Eighty-Eight'], ['Plymouth', 'Laser', 'Sporty', 11.4, 14.4, 17.4, nan, 30.0, nan, '4WD', '4', 1.8, 92.0, 5000.0, 2360.0, 'Yes', 15.9, 4.0, 173.0, 97.0, 67.0, 39.0, 24.5, 8.0, 2640.0, nan, 'Plymouth Laser'], ['Pontiac', 'LeMans', 'Small', nan, 9.0, 9.9, 31.0, 41.0, nan, 'Front', '4', 1.6, 74.0, 5600.0, 3130.0, 'Yes', 13.2, 4.0, 177.0, 99.0, 66.0, 35.0, 25.5, 17.0, 2350.0, 'USA', 'Pontiac LeMans'], ['Pontiac', 'Sunbird', 'Compact', 9.4, 11.1, 12.8, nan, 31.0, nan, nan, '4', 2.0, 110.0, 5200.0, 2665.0, 'Yes', 15.2, 5.0, 181.0, 101.0, 66.0, 39.0, 25.0, 13.0, nan, 'USA', nan], ['Pontiac', 'Firebird', nan, 14.0, 17.7, 21.4, 19.0, 28.0, 'Driver & Passenger', 'Rear', '6', nan, 160.0, 4600.0, 1805.0, 'Yes', 15.5, 4.0, 196.0, 101.0, 75.0, 43.0, 25.0, 13.0, 3240.0, 'USA', 'Pontiac Firebird'], ['Pontiac', 'Grand_Prix', 'Midsize', 15.4, 18.5, 21.6, 19.0, 27.0, nan, 'Front', '6', 3.4, 200.0, 5000.0, 1890.0, 'Yes', 16.5, 5.0, 195.0, 108.0, 72.0, 41.0, 28.5, 16.0, 3450.0, 'USA', 'Pontiac Grand_Prix'], ['Pontiac', 'Bonneville', 'Large', 19.4, 24.4, 29.4, 19.0, 28.0, 'Driver & Passenger', 'Front', '6', 3.8, 170.0, 4800.0, 1565.0, 'No', 18.0, 6.0, 177.0, 111.0, 74.0, 43.0, 30.5, 18.0, 3495.0, 'USA', 'Pontiac Bonneville'], ['Saab', '900', 'Compact', 20.3, 28.7, 37.1, 20.0, 26.0, nan, 'Front', '4', 2.1, 140.0, 6000.0, 2910.0, 'Yes', 18.0, 5.0, nan, 99.0, 67.0, 37.0, 26.5, 14.0, 2775.0, 'non-USA', 'Saab 900'], ['Saturn', 'SL', 'Small', 9.2, nan, 12.9, nan, 38.0, 'Driver only', 'Front', '4', 1.9, 85.0, 5000.0, 2145.0, 'Yes', 12.8, 5.0, 176.0, 102.0, 68.0, 40.0, 26.5, nan, 2495.0, 'USA', 'Saturn SL'], ['Subaru', 'Justy', 'Small', 7.3, 8.4, 9.5, 33.0, 37.0, nan, '4WD', '3', 1.2, 73.0, 5600.0, 2875.0, 'Yes', 9.2, 4.0, 146.0, 90.0, 60.0, 32.0, 23.5, 10.0, 2045.0, 'non-USA', 'Subaru Justy'], ['Subaru', 'Loyale', 'Small', 10.5, 10.9, 11.3, 25.0, 30.0, nan, '4WD', '4', 1.8, 90.0, 5200.0, 3375.0, 'Yes', 15.9, 5.0, 175.0, 97.0, 65.0, 35.0, 27.5, 15.0, 2490.0, 'non-USA', 'Subaru Loyale'], ['Subaru', 'Legacy', 'Compact', 16.3, 19.5, 22.7, 23.0, 30.0, 'Driver only', '4WD', '4', 2.2, 130.0, nan, 2330.0, 'Yes', 15.9, 5.0, 179.0, 102.0, 67.0, 37.0, 27.0, 14.0, 3085.0, 'non-USA', 'Subaru Legacy'], ['Suzuki', 'Swift', nan, 7.3, 8.6, nan, 39.0, 43.0, nan, 'Front', '3', 1.3, 70.0, 6000.0, 3360.0, 'Yes', 10.6, 4.0, 161.0, 93.0, nan, 34.0, 27.5, 10.0, 1965.0, 'non-USA', 'Suzuki Swift'], ['Toyota', 'Tercel', 'Small', nan, 9.8, 11.8, 32.0, 37.0, 'Driver only', 'Front', '4', 1.5, 82.0, 5200.0, 3505.0, 'Yes', 11.9, nan, 162.0, 94.0, nan, 36.0, 24.0, 11.0, 2055.0, 'non-USA', 'Toyota Tercel'], ['Toyota', 'Celica', 'Sporty', 14.2, 18.4, 22.6, 25.0, 32.0, nan, 'Front', '4', 2.2, 135.0, nan, 2405.0, 'Yes', 15.9, 4.0, 174.0, 99.0, 69.0, nan, 23.0, 13.0, 2950.0, 'non-USA', 'Toyota Celica'], ['Toyota', 'Camry', 'Midsize', 15.2, nan, 21.2, 22.0, 29.0, 'Driver only', nan, '4', 2.2, 130.0, 5400.0, 2340.0, nan, 18.5, 5.0, 188.0, 103.0, 70.0, 38.0, 28.5, 15.0, 3030.0, 'non-USA', 'Toyota Camry'], ['Toyota', 'Previa', 'Van', nan, 22.7, 26.6, 18.0, 22.0, 'Driver only', '4WD', '4', 2.4, 138.0, 5000.0, 2515.0, 'Yes', 19.8, 7.0, 187.0, 113.0, 71.0, 41.0, 35.0, nan, 3785.0, 'non-USA', 'Toyota Previa'], ['Volkswagen', 'Fox', 'Small', 8.7, 9.1, 9.5, 25.0, 33.0, nan, 'Front', '4', 1.8, 81.0, 5500.0, 2550.0, 'Yes', 12.4, 4.0, 163.0, 93.0, 63.0, 34.0, 26.0, 10.0, 2240.0, 'non-USA', 'Volkswagen Fox'], ['Volkswagen', 'Eurovan', 'Van', 16.6, 19.7, 22.7, 17.0, 21.0, nan, 'Front', '5', 2.5, 109.0, 4500.0, 2915.0, 'Yes', 21.1, 7.0, 187.0, 115.0, 72.0, 38.0, 34.0, nan, 3960.0, nan, 'Volkswagen Eurovan'], ['Volkswagen', 'Passat', 'Compact', 17.6, 20.0, 22.4, 21.0, 30.0, nan, 'Front', '4', 2.0, 134.0, 5800.0, 2685.0, 'Yes', 18.5, 5.0, 180.0, 103.0, 67.0, 35.0, 31.5, 14.0, 2985.0, 'non-USA', 'Volkswagen Passat'], ['Volkswagen', 'Corrado', 'Sporty', 22.9, 23.3, 23.7, 18.0, 25.0, nan, 'Front', '6', 2.8, 178.0, 5800.0, 2385.0, 'Yes', 18.5, 4.0, 159.0, 97.0, 66.0, 36.0, 26.0, 15.0, 2810.0, 'non-USA', 'Volkswagen Corrado'], ['Volvo', '240', 'Compact', 21.8, 22.7, 23.5, 21.0, 28.0, 'Driver only', 'Rear', nan, 2.3, 114.0, 5400.0, 2215.0, 'Yes', 15.8, 5.0, 190.0, 104.0, 67.0, 37.0, 29.5, 14.0, 2985.0, 'non-USA', 'Volvo 240'], [nan, '850', 'Midsize', 24.8, 26.7, 28.5, 20.0, 28.0, 'Driver & Passenger', 'Front', '5', 2.4, 168.0, 6200.0, nan, 'Yes', 19.3, 5.0, 184.0, 105.0, 69.0, 38.0, 30.0, 15.0, 3245.0, 'non-USA', 'Volvo 850']]\n"
     ]
    }
   ],
   "source": [
    "\n",
    "# URL набора данных\n",
    "url = 'https://raw.githubusercontent.com/selva86/datasets/master/Cars93_miss.csv'\n",
    "\n",
    "# Импорт данных\n",
    "df = pd.read_csv(url)\n",
    "\n",
    "# Информация о датафрейме\n",
    "info = df.info()\n",
    "\n",
    "# Эквивалент в виде numpy-массива\n",
    "numpy_array = df.to_numpy()\n",
    "\n",
    "# Эквивалент в виде списка\n",
    "list_data = df.values.tolist()\n",
    "\n",
    "# Вывод результатов\n",
    "print(\"Информация о датафрейме:\")\n",
    "print(info)\n",
    "print(\"\\nЭквивалент в виде numpy-массива:\")\n",
    "print(numpy_array)\n",
    "print(\"\\nЭквивалент в виде списка:\")\n",
    "print(list_data)"
   ]
  },
  {
   "cell_type": "markdown",
   "metadata": {},
   "source": [
    "Задание 37\n",
    "==="
   ]
  },
  {
   "cell_type": "code",
   "execution_count": 86,
   "metadata": {},
   "outputs": [
    {
     "name": "stdout",
     "output_type": "stream",
     "text": [
      "Производитель, модель и тип с наибольшей ценой:\n",
      "Manufacturer    Mercedes-Benz\n",
      "Model                    300E\n",
      "Type                  Midsize\n",
      "Name: 58, dtype: object\n",
      "\n",
      "Номер строки и столбца ячейки с наибольшим значением в 'Price':\n",
      "Строка: 58 , Столбец: 4\n"
     ]
    }
   ],
   "source": [
    "# Импорт данных\n",
    "df = pd.read_csv('https://raw.githubusercontent.com/selva86/datasets/master/Cars93_miss.csv')\n",
    "\n",
    "# Находим номер строки и столбца ячейки с наибольшим значением в 'Price'\n",
    "max_price_index = df['Price'].idxmax()\n",
    "max_price_row, max_price_col = df.index.get_loc(max_price_index), df.columns.get_loc('Price')\n",
    "\n",
    "# Извлекаем производителя, модель и тип с наибольшей ценой\n",
    "max_price_info = df.loc[max_price_index, ['Manufacturer', 'Model', 'Type']]\n",
    "\n",
    "# Вывод результатов\n",
    "print(\"Производитель, модель и тип с наибольшей ценой:\")\n",
    "print(max_price_info)\n",
    "print(\"\\nНомер строки и столбца ячейки с наибольшим значением в 'Price':\")\n",
    "print(\"Строка:\", max_price_row, \", Столбец:\", max_price_col)"
   ]
  },
  {
   "cell_type": "markdown",
   "metadata": {},
   "source": [
    "Задание 38\n",
    "==="
   ]
  },
  {
   "cell_type": "code",
   "execution_count": 87,
   "metadata": {},
   "outputs": [
    {
     "name": "stdout",
     "output_type": "stream",
     "text": [
      "Index(['Manufacturer', 'Model', 'CarType', 'Min_Price', 'Price', 'Max_Price',\n",
      "       'MPG_city', 'MPG_highway', 'AirBags', 'DriveTrain', 'Cylinders',\n",
      "       'EngineSize', 'Horsepower', 'RPM', 'Rev_per_mile', 'Man_trans_avail',\n",
      "       'Fuel_tank_capacity', 'Passengers', 'Length', 'Wheelbase', 'Width',\n",
      "       'Turn_circle', 'Rear_seat_room', 'Luggage_room', 'Weight', 'Origin',\n",
      "       'Make'],\n",
      "      dtype='object')\n"
     ]
    }
   ],
   "source": [
    "# Импорт данных\n",
    "df = pd.read_csv('https://raw.githubusercontent.com/selva86/datasets/master/Cars93_miss.csv')\n",
    "\n",
    "# Переименование столбца 'Type' в 'CarType'\n",
    "df = df.rename(columns={'Type': 'CarType'})\n",
    "\n",
    "# Замена '.' в именах столбцов на '_'\n",
    "df.columns = df.columns.str.replace('.', '_')\n",
    "\n",
    "# Вывод результата\n",
    "print(df.columns)"
   ]
  },
  {
   "cell_type": "markdown",
   "metadata": {},
   "source": [
    "Задание 39\n",
    "==="
   ]
  },
  {
   "cell_type": "code",
   "execution_count": 88,
   "metadata": {},
   "outputs": [
    {
     "name": "stdout",
     "output_type": "stream",
     "text": [
      "Наличие отсутствующих значений в датафрейме: True\n"
     ]
    }
   ],
   "source": [
    "# Импорт данных\n",
    "df = pd.read_csv('https://raw.githubusercontent.com/selva86/datasets/master/Cars93_miss.csv')\n",
    "\n",
    "# Проверка наличия отсутствующих значений\n",
    "missing_values = df.isna().any().any()\n",
    "\n",
    "# Вывод результата\n",
    "print(\"Наличие отсутствующих значений в датафрейме:\", missing_values)"
   ]
  },
  {
   "cell_type": "markdown",
   "metadata": {},
   "source": [
    "Задание 40\n",
    "==="
   ]
  },
  {
   "cell_type": "code",
   "execution_count": 89,
   "metadata": {},
   "outputs": [
    {
     "name": "stdout",
     "output_type": "stream",
     "text": [
      "Количество пропущенных значений в каждом столбце:\n",
      "Manufacturer           4\n",
      "Model                  1\n",
      "Type                   3\n",
      "Min.Price              7\n",
      "Price                  2\n",
      "Max.Price              5\n",
      "MPG.city               9\n",
      "MPG.highway            2\n",
      "AirBags               38\n",
      "DriveTrain             7\n",
      "Cylinders              5\n",
      "EngineSize             2\n",
      "Horsepower             7\n",
      "RPM                    3\n",
      "Rev.per.mile           6\n",
      "Man.trans.avail        5\n",
      "Fuel.tank.capacity     8\n",
      "Passengers             2\n",
      "Length                 4\n",
      "Wheelbase              1\n",
      "Width                  6\n",
      "Turn.circle            5\n",
      "Rear.seat.room         4\n",
      "Luggage.room          19\n",
      "Weight                 7\n",
      "Origin                 5\n",
      "Make                   3\n",
      "dtype: int64\n",
      "\n",
      "Столбец с наибольшим числом пропущенных значений: AirBags\n"
     ]
    }
   ],
   "source": [
    "# Импорт данных\n",
    "df = pd.read_csv('https://raw.githubusercontent.com/selva86/datasets/master/Cars93_miss.csv')\n",
    "\n",
    "# Подсчет количества пропущенных значений в каждом столбце\n",
    "missing_values_per_column = df.isna().sum()\n",
    "\n",
    "# Нахождение столбца с наибольшим числом пропущенных значений\n",
    "column_with_most_missing_values = missing_values_per_column.idxmax()\n",
    "\n",
    "# Вывод результата\n",
    "print(\"Количество пропущенных значений в каждом столбце:\")\n",
    "print(missing_values_per_column)\n",
    "print(\"\\nСтолбец с наибольшим числом пропущенных значений:\", column_with_most_missing_values)\n"
   ]
  },
  {
   "cell_type": "markdown",
   "metadata": {},
   "source": [
    "Задание 41\n",
    "==="
   ]
  },
  {
   "cell_type": "code",
   "execution_count": 90,
   "metadata": {},
   "outputs": [
    {
     "name": "stdout",
     "output_type": "stream",
     "text": [
      "    Min.Price  Max.Price\n",
      "0   12.900000  18.800000\n",
      "1   29.200000  38.700000\n",
      "2   25.900000  32.300000\n",
      "3   17.118605  44.600000\n",
      "4   17.118605  21.459091\n",
      "..        ...        ...\n",
      "88  16.600000  22.700000\n",
      "89  17.600000  22.400000\n",
      "90  22.900000  23.700000\n",
      "91  21.800000  23.500000\n",
      "92  24.800000  28.500000\n",
      "\n",
      "[93 rows x 2 columns]\n"
     ]
    }
   ],
   "source": [
    "# Импорт данных\n",
    "df = pd.read_csv('https://raw.githubusercontent.com/selva86/datasets/master/Cars93_miss.csv')\n",
    "\n",
    "# Замена отсутствующих значений на средние значения в столбцах Min.Price и Max.Price\n",
    "df['Min.Price'] = df['Min.Price'].fillna(df['Min.Price'].mean())\n",
    "df['Max.Price'] = df['Max.Price'].fillna(df['Max.Price'].mean())\n",
    "\n",
    "# Вывод результата\n",
    "print(df[['Min.Price', 'Max.Price']])"
   ]
  },
  {
   "cell_type": "markdown",
   "metadata": {},
   "source": [
    "Задание 42\n",
    "==="
   ]
  },
  {
   "cell_type": "code",
   "execution_count": 97,
   "metadata": {},
   "outputs": [
    {
     "name": "stdout",
     "output_type": "stream",
     "text": [
      "    Min.Price  Max.Price\n",
      "0   12.900000      18.80\n",
      "1   29.200000      38.70\n",
      "2   25.900000      32.30\n",
      "3   17.118605      44.60\n",
      "4   17.118605      19.15\n",
      "..        ...        ...\n",
      "88  16.600000      22.70\n",
      "89  17.600000      22.40\n",
      "90  22.900000      23.70\n",
      "91  21.800000      23.50\n",
      "92  24.800000      28.50\n",
      "\n",
      "[93 rows x 2 columns]\n"
     ]
    }
   ],
   "source": [
    "# Импорт данных\n",
    "df = pd.read_csv('https://raw.githubusercontent.com/selva86/datasets/master/Cars93_miss.csv')\n",
    "\n",
    "# Замена отсутствующих значений в Min.Price на среднее значение, в Max.Price на медиану\n",
    "df['Min.Price'] = df['Min.Price'].apply(lambda x: x if pd.notnull(x) else df['Min.Price'].mean())\n",
    "df['Max.Price'] = df['Max.Price'].apply(lambda x: x if pd.notnull(x) else df['Max.Price'].median())\n",
    "\n",
    "# Вывод результата\n",
    "print(df[['Min.Price', 'Max.Price']])"
   ]
  },
  {
   "cell_type": "markdown",
   "metadata": {},
   "source": [
    "Задание 43\n",
    "==="
   ]
  },
  {
   "cell_type": "code",
   "execution_count": 98,
   "metadata": {},
   "outputs": [
    {
     "name": "stdout",
     "output_type": "stream",
     "text": [
      "    a\n",
      "0   0\n",
      "1   5\n",
      "2  10\n",
      "3  15\n"
     ]
    }
   ],
   "source": [
    "# Пример входных данных\n",
    "df = pd.DataFrame(np.arange(20).reshape(-1, 5), columns=list('abcde'))\n",
    "\n",
    "# Получение первого столбца 'a' в виде датафрейма\n",
    "first_column_df = df[['a']]\n",
    "\n",
    "# Вывод результата\n",
    "print(first_column_df)"
   ]
  },
  {
   "cell_type": "markdown",
   "metadata": {},
   "source": [
    "Задание 44\n",
    "==="
   ]
  },
  {
   "cell_type": "code",
   "execution_count": 107,
   "metadata": {},
   "outputs": [
    {
     "name": "stdout",
     "output_type": "stream",
     "text": [
      "Начальный датафрейм:\n",
      "    a   b   c   d   e\n",
      "0   0   1   2   3   4\n",
      "1   5   6   7   8   9\n",
      "2  10  11  12  13  14\n",
      "3  15  16  17  18  19\n",
      "Датафрейм с измененными столбцами а и с:\n",
      "    a   b   c   d   e\n",
      "0   2   1   0   3   4\n",
      "1   7   6   5   8   9\n",
      "2  12  11  10  13  14\n",
      "3  17  16  15  18  19\n",
      "Датафрейм с обобщенной функцией:\n",
      "    a   b   c   d   e\n",
      "0   2   1   0   3   4\n",
      "1   7   6   5   8   9\n",
      "2  12  11  10  13  14\n",
      "3  17  16  15  18  19\n",
      "Отсортированный датафрейм со столбцами в обратном порядке:\n",
      "    e   d   c   b   a\n",
      "0   4   3   2   1   0\n",
      "1   9   8   7   6   5\n",
      "2  14  13  12  11  10\n",
      "3  19  18  17  16  15\n"
     ]
    }
   ],
   "source": [
    "# Пример входных данных\n",
    "df = pd.DataFrame(np.arange(20).reshape(-1, 5), columns=list('abcde'))\n",
    "print(f'Начальный датафрейм:\\n{df}')\n",
    "\n",
    "# Меняем местами столбцы 'a' и 'c'\n",
    "df[['a', 'c']] = df[['c', 'a']]\n",
    "\n",
    "# Вывод результата\n",
    "print(f'Датафрейм с измененными столбцами а и с:\\n{df}')\n",
    "\n",
    "# Пример входных данных\n",
    "df = pd.DataFrame(np.arange(20).reshape(-1, 5), columns=list('abcde'))\n",
    "\n",
    "# Обобщенная функция для обмена данными между двумя столбцами\n",
    "def swap_columns(df, col1, col2):\n",
    "    df[[col1, col2]] = df[[col2, col1]]\n",
    "\n",
    "# Используем обобщенную функцию для обмена данными между столбцами 'a' и 'c'\n",
    "swap_columns(df, 'a', 'c')\n",
    "\n",
    "# Вывод результата\n",
    "print(f'Датафрейм с обобщенной функцией:\\n{df}')\n",
    "\n",
    "# Пример входных данных\n",
    "df = pd.DataFrame(np.arange(20).reshape(-1, 5), columns=list('abcde'))\n",
    "\n",
    "# Сортируем столбцы в обратном алфавитном порядке\n",
    "df = df[sorted(df.columns, reverse=True)]\n",
    "\n",
    "# Вывод результата\n",
    "print(f'Отсортированный датафрейм со столбцами в обратном порядке:\\n{df}')"
   ]
  },
  {
   "cell_type": "markdown",
   "metadata": {},
   "source": [
    "Задание 45\n",
    "==="
   ]
  },
  {
   "cell_type": "code",
   "execution_count": 108,
   "metadata": {},
   "outputs": [
    {
     "name": "stdout",
     "output_type": "stream",
     "text": [
      "   Manufacturer    Model     Type  Min.Price  Price  ...  Rear.seat.room  \\\n",
      "0         Acura  Integra    Small       12.9   15.9  ...            26.5   \n",
      "1           NaN   Legend  Midsize       29.2   33.9  ...            30.0   \n",
      "2          Audi       90  Compact       25.9   29.1  ...            28.0   \n",
      "3          Audi      100  Midsize        NaN   37.7  ...            31.0   \n",
      "4           BMW     535i  Midsize        NaN   30.0  ...            27.0   \n",
      "..          ...      ...      ...        ...    ...  ...             ...   \n",
      "88   Volkswagen  Eurovan      Van       16.6   19.7  ...            34.0   \n",
      "89   Volkswagen   Passat  Compact       17.6   20.0  ...            31.5   \n",
      "90   Volkswagen  Corrado   Sporty       22.9   23.3  ...            26.0   \n",
      "91        Volvo      240  Compact       21.8   22.7  ...            29.5   \n",
      "92          NaN      850  Midsize       24.8   26.7  ...            30.0   \n",
      "\n",
      "    Luggage.room  Weight   Origin                Make  \n",
      "0            NaN  2705.0  non-USA       Acura Integra  \n",
      "1           15.0  3560.0  non-USA        Acura Legend  \n",
      "2           14.0  3375.0  non-USA             Audi 90  \n",
      "3           17.0  3405.0  non-USA            Audi 100  \n",
      "4           13.0  3640.0  non-USA            BMW 535i  \n",
      "..           ...     ...      ...                 ...  \n",
      "88           NaN  3960.0      NaN  Volkswagen Eurovan  \n",
      "89          14.0  2985.0  non-USA   Volkswagen Passat  \n",
      "90          15.0  2810.0  non-USA  Volkswagen Corrado  \n",
      "91          14.0  2985.0  non-USA           Volvo 240  \n",
      "92          15.0  3245.0  non-USA           Volvo 850  \n",
      "\n",
      "[93 rows x 27 columns]\n"
     ]
    }
   ],
   "source": [
    "# Пример входных данных\n",
    "df = pd.read_csv('https://raw.githubusercontent.com/selva86/datasets/master/Cars93_miss.csv')\n",
    "\n",
    "# Устанавливаем максимальное количество строк и столбцов\n",
    "pd.set_option('display.max_rows', 10)\n",
    "pd.set_option('display.max_columns', 10)\n",
    "\n",
    "# Вывод результата\n",
    "print(df)"
   ]
  },
  {
   "cell_type": "markdown",
   "metadata": {},
   "source": [
    "Задание 46\n",
    "==="
   ]
  },
  {
   "cell_type": "code",
   "execution_count": 109,
   "metadata": {},
   "outputs": [
    {
     "name": "stdout",
     "output_type": "stream",
     "text": [
      "   random\n",
      "0  0.0000\n",
      "1  0.7511\n",
      "2  0.6820\n",
      "3  0.0000\n"
     ]
    }
   ],
   "source": [
    "# Пример входных данных\n",
    "df = pd.DataFrame(np.random.random(4)**10, columns=['random'])\n",
    "\n",
    "# Исключаем вывод научной нотации и выводим до 4 чисел после запятой\n",
    "pd.set_option('display.float_format', '{:.4f}'.format)\n",
    "\n",
    "# Вывод результата\n",
    "print(df)"
   ]
  },
  {
   "cell_type": "markdown",
   "metadata": {},
   "source": [
    "Задание 47\n",
    "==="
   ]
  },
  {
   "cell_type": "code",
   "execution_count": 110,
   "metadata": {},
   "outputs": [
    {
     "name": "stdout",
     "output_type": "stream",
     "text": [
      "   random\n",
      "0  49.72%\n",
      "1  30.09%\n",
      "2  28.48%\n",
      "3   3.69%\n"
     ]
    }
   ],
   "source": [
    "# Пример входных данных\n",
    "df = pd.DataFrame(np.random.random(4), columns=['random'])\n",
    "\n",
    "# Форматируем значения в проценты\n",
    "df['random'] = df['random'].apply(lambda x: '{:.2%}'.format(x))\n",
    "\n",
    "# Вывод результата\n",
    "print(df)"
   ]
  },
  {
   "cell_type": "markdown",
   "metadata": {},
   "source": [
    "Задание 48\n",
    "==="
   ]
  },
  {
   "cell_type": "code",
   "execution_count": 111,
   "metadata": {},
   "outputs": [
    {
     "name": "stdout",
     "output_type": "stream",
     "text": [
      "   Manufacturer    Model     Type\n",
      "0         Acura  Integra    Small\n",
      "20     Chrysler  LeBaron  Compact\n",
      "40        Honda  Prelude   Sporty\n",
      "60      Mercury   Cougar  Midsize\n",
      "80       Subaru   Loyale    Small\n"
     ]
    }
   ],
   "source": [
    "# Пример входных данных\n",
    "df = pd.read_csv('https://raw.githubusercontent.com/selva86/datasets/master/Cars93_miss.csv')\n",
    "\n",
    "# Отфильтровать строки\n",
    "result = df.loc[::20, ['Manufacturer', 'Model', 'Type']]\n",
    "\n",
    "# Вывести результат\n",
    "print(result)"
   ]
  },
  {
   "cell_type": "markdown",
   "metadata": {},
   "source": [
    "Задание 49\n",
    "==="
   ]
  },
  {
   "cell_type": "code",
   "execution_count": 113,
   "metadata": {},
   "outputs": [
    {
     "name": "stdout",
     "output_type": "stream",
     "text": [
      "                              Min.Price  Max.Price\n",
      "Manufacturer Model   Type                         \n",
      "Acura        Integra Small      12.9000    18.8000\n",
      "missing      Legend  Midsize    29.2000    38.7000\n",
      "Audi         90      Compact    25.9000    32.3000\n",
      "             100     Midsize        NaN    44.6000\n",
      "BMW          535i    Midsize        NaN        NaN\n",
      "...                                 ...        ...\n",
      "Volkswagen   Eurovan Van        16.6000    22.7000\n",
      "             Passat  Compact    17.6000    22.4000\n",
      "             Corrado Sporty     22.9000    23.7000\n",
      "Volvo        240     Compact    21.8000    23.5000\n",
      "missing      850     Midsize    24.8000    28.5000\n",
      "\n",
      "[93 rows x 2 columns]\n",
      "\n",
      "Is the index a primary key? True\n"
     ]
    }
   ],
   "source": [
    "# Пример входных данных\n",
    "df = pd.read_csv('https://raw.githubusercontent.com/selva86/datasets/master/Cars93_miss.csv', usecols=[0,1,2,3,5])\n",
    "\n",
    "# Заменить NaN на 'missing' в указанных столбцах\n",
    "df[['Manufacturer', 'Model', 'Type']] = df[['Manufacturer', 'Model', 'Type']].fillna('missing')\n",
    "\n",
    "# Создать индекс как комбинацию столбцов 'Manufacturer', 'Model', 'Type'\n",
    "df.set_index(['Manufacturer', 'Model', 'Type'], inplace=True)\n",
    "\n",
    "# Проверить, является ли индекс первичным ключом\n",
    "is_primary_key = df.index.is_unique\n",
    "\n",
    "# Вывести результат\n",
    "print(df)\n",
    "print(\"\\nIs the index a primary key?\", is_primary_key)"
   ]
  },
  {
   "cell_type": "markdown",
   "metadata": {},
   "source": [
    "Задание 50\n",
    "==="
   ]
  },
  {
   "cell_type": "code",
   "execution_count": 116,
   "metadata": {},
   "outputs": [
    {
     "name": "stdout",
     "output_type": "stream",
     "text": [
      "    a   b   c\n",
      "0  25  25  18\n",
      "1  23  10   3\n",
      "2   7  28  16\n",
      "3  26  16  25\n",
      "4  20  28  17\n",
      "5   2   1  16\n",
      "6  12   5   5\n",
      "7  27  23   9\n",
      "8   9   3  19\n",
      "9  16  16   3\n",
      "Индекс строки с 5-м наибольшим значением в столбце 'a': 4\n"
     ]
    }
   ],
   "source": [
    "# Пример входных данных\n",
    "df = pd.DataFrame(np.random.randint(1, 30, 30).reshape(10, -1), columns=list('abc'))\n",
    "\n",
    "print(df)\n",
    "# Найти положение строки с 5-м наибольшим значением в столбце 'a'\n",
    "row_index = df['a'].nlargest(5).index[-1]\n",
    "\n",
    "# Вывести результат\n",
    "print(\"Индекс строки с 5-м наибольшим значением в столбце 'a':\", row_index)"
   ]
  },
  {
   "cell_type": "markdown",
   "metadata": {},
   "source": [
    "Задание 51\n",
    "==="
   ]
  },
  {
   "cell_type": "code",
   "execution_count": 121,
   "metadata": {},
   "outputs": [
    {
     "name": "stdout",
     "output_type": "stream",
     "text": [
      "0    61\n",
      "1    48\n",
      "2    19\n",
      "3     4\n",
      "4    35\n",
      "5    64\n",
      "6    49\n",
      "7    17\n",
      "8    44\n",
      "9    92\n",
      "dtype: int32\n",
      "Среднее значение = 43.3\n",
      "Положение 2-го наибольшего значения, превышающего среднее: 5\n"
     ]
    }
   ],
   "source": [
    "# Пример входных данных\n",
    "ser = pd.Series(np.random.randint(1, 100, 10))\n",
    "\n",
    "print(ser)\n",
    "# Найти положение второго наибольшего значения, превышающего среднее\n",
    "mean_value = ser.mean()\n",
    "print(f'Среднее значение = {mean_value}')\n",
    "sorted_values = ser[ser > mean_value].sort_values(ascending=False)\n",
    "second_largest_above_mean = sorted_values.iloc[1]\n",
    "position_second_largest_above_mean = ser[ser == second_largest_above_mean].index[0]\n",
    "\n",
    "# Вывести результат\n",
    "print(\"Положение 2-го наибольшего значения, превышающего среднее:\", position_second_largest_above_mean)\n"
   ]
  },
  {
   "cell_type": "markdown",
   "metadata": {},
   "source": [
    "Задание 52\n",
    "==="
   ]
  },
  {
   "cell_type": "code",
   "execution_count": 123,
   "metadata": {},
   "outputs": [
    {
     "name": "stdout",
     "output_type": "stream",
     "text": [
      "     0   1   2   3\n",
      "0   16  34  13  22\n",
      "1   29  10  17  23\n",
      "2   25  23  21  28\n",
      "3   32  24  37  11\n",
      "4   11  32  31  28\n",
      "..  ..  ..  ..  ..\n",
      "10  37  21  21  14\n",
      "11  16  13  15  22\n",
      "12  29  39  24  12\n",
      "13  32  17  29  25\n",
      "14  22  27  37  19\n",
      "\n",
      "[15 rows x 4 columns]\n",
      "     0   1   2   3\n",
      "13  32  17  29  25\n",
      "14  22  27  37  19\n"
     ]
    }
   ],
   "source": [
    "# Пример входных данных\n",
    "df = pd.DataFrame(np.random.randint(10, 40, 60).reshape(-1, 4))\n",
    "\n",
    "print(df)\n",
    "\n",
    "# Получить две последние строки сумма которых больше 100\n",
    "result_df = df[df.sum(axis=1) > 100].tail(2)\n",
    "\n",
    "# Вывести результат\n",
    "print(result_df)"
   ]
  },
  {
   "cell_type": "markdown",
   "metadata": {},
   "source": [
    "Задание 53\n",
    "==="
   ]
  },
  {
   "cell_type": "code",
   "execution_count": 125,
   "metadata": {},
   "outputs": [
    {
     "name": "stdout",
     "output_type": "stream",
     "text": [
      "0      0.0100\n",
      "1      0.0137\n",
      "2      0.0189\n",
      "3      0.0259\n",
      "4      0.0356\n",
      "       ...   \n",
      "25    28.0722\n",
      "26    38.5662\n",
      "27    52.9832\n",
      "28    72.7895\n",
      "29   100.0000\n",
      "Length: 30, dtype: float64\n",
      "0     0.0160\n",
      "1     0.0160\n",
      "2     0.0189\n",
      "3     0.0259\n",
      "4     0.0356\n",
      "       ...  \n",
      "25   28.0722\n",
      "26   38.5662\n",
      "27   52.9832\n",
      "28   63.8767\n",
      "29   63.8767\n",
      "Length: 30, dtype: float64\n"
     ]
    }
   ],
   "source": [
    "# Пример входных данных\n",
    "ser = pd.Series(np.logspace(-2, 2, 30))\n",
    "\n",
    "\n",
    "print(ser)\n",
    "# Находим 5%-ный и 95%-ный перцентили\n",
    "percentile_5 = ser.quantile(0.05)\n",
    "percentile_95 = ser.quantile(0.95)\n",
    "\n",
    "# Заменяем значения вне диапазона на соответствующие значения перцентилей\n",
    "ser = ser.clip(lower=percentile_5, upper=percentile_95)\n",
    "\n",
    "# Выводим результат\n",
    "print(ser)"
   ]
  },
  {
   "cell_type": "markdown",
   "metadata": {},
   "source": [
    "Задание 54\n",
    "==="
   ]
  },
  {
   "cell_type": "code",
   "execution_count": 131,
   "metadata": {},
   "outputs": [
    {
     "name": "stdout",
     "output_type": "stream",
     "text": [
      "    0   1   2   3   4   5   6   7   8   9\n",
      "0   6  15   8  17  36   6  34  12  47  45\n",
      "1 -11 -16  17  -8  10  26  31  35  -6   8\n",
      "2 -13 -16   8  26  47  24 -19   6  15  15\n",
      "3   5  22   6  48  -1 -10  17 -15   2  26\n",
      "4  25  -9  -8  41  39  22  47 -16  16  10\n",
      "5 -12  30   8  19  20 -10   2 -20  25   0\n",
      "6  15  33  36 -20  42  33  34  19  -6   0\n",
      "7  26  32 -12  31  36   5  20  14  42   4\n",
      "8  17 -19 -14  13  -4  22  38  30  33   3\n",
      "9   4  31  49  12  28   8  42   1   5   7\n",
      "        0       1       2       3       4       5       6       7       8   9\n",
      "0  6.0000 15.0000  8.0000 17.0000 36.0000  6.0000 34.0000 12.0000 47.0000  45\n",
      "1 17.0000 10.0000 26.0000 31.0000 35.0000  8.0000 31.0000 35.0000     NaN   8\n",
      "2  8.0000 26.0000 47.0000 24.0000  6.0000 15.0000 15.0000  6.0000 15.0000  15\n",
      "3  5.0000 22.0000  6.0000 48.0000 17.0000  2.0000 26.0000     NaN  2.0000  26\n",
      "4 25.0000 41.0000 39.0000 22.0000 47.0000 16.0000 10.0000     NaN 16.0000  10\n",
      "5 30.0000  8.0000 19.0000 20.0000  2.0000 25.0000  0.0000     NaN 25.0000   0\n",
      "6 15.0000 33.0000 36.0000 42.0000 33.0000 34.0000 19.0000  0.0000     NaN   0\n",
      "7 26.0000 32.0000 31.0000 36.0000  5.0000 20.0000 14.0000 42.0000  4.0000   4\n",
      "8 17.0000 13.0000 22.0000 38.0000 30.0000 33.0000  3.0000 30.0000 33.0000   3\n",
      "9  4.0000 31.0000 49.0000 12.0000 28.0000  8.0000 42.0000  1.0000  5.0000   7\n"
     ]
    }
   ],
   "source": [
    "# Пример входных данных\n",
    "df = pd.DataFrame(np.random.randint(-20, 50, 100).reshape(10, -1))\n",
    "\n",
    "print(df)\n",
    "\n",
    "# Функция для перестройки DataFrame\n",
    "def reshape_to_square(df):\n",
    "    # Создаем копию DataFrame\n",
    "    new_df = df.copy()\n",
    "\n",
    "    # Создаем DataFrame с NaN вместо отрицательных значений\n",
    "    new_df[new_df < 0] = np.nan\n",
    "\n",
    "    # Заполняем NaN значениями предыдущих положительных элементов в каждой строке\n",
    "    for i in range(new_df.shape[0]):\n",
    "        row = new_df.iloc[i]\n",
    "        pos_values = row[row >= 0]\n",
    "        new_df.iloc[i, :len(pos_values)] = pos_values\n",
    "\n",
    "    return new_df\n",
    "\n",
    "# Перестройка DataFrame\n",
    "result_df = reshape_to_square(df)\n",
    "\n",
    "# Вывод результата\n",
    "print(result_df)"
   ]
  },
  {
   "cell_type": "markdown",
   "metadata": {},
   "source": [
    "Задание 55\n",
    "==="
   ]
  },
  {
   "cell_type": "code",
   "execution_count": 136,
   "metadata": {},
   "outputs": [
    {
     "name": "stdout",
     "output_type": "stream",
     "text": [
      "    0   1   2   3   4\n",
      "0   0   1   2   3   4\n",
      "1   5   6   7   8   9\n",
      "2  10  11  12  13  14\n",
      "3  15  16  17  18  19\n",
      "4  20  21  22  23  24\n",
      "    0   1   2   3   4\n",
      "0   5   6   7   8   9\n",
      "1   0   1   2   3   4\n",
      "2  10  11  12  13  14\n",
      "3  15  16  17  18  19\n",
      "4  20  21  22  23  24\n"
     ]
    }
   ],
   "source": [
    "# Пример входных данных\n",
    "df = pd.DataFrame(np.arange(25).reshape(5, -1))\n",
    "\n",
    "print(df)\n",
    "\n",
    "# Поменять местами строки 1 и 2\n",
    "df.iloc[0], df.iloc[1] = df.iloc[1].copy(), df.iloc[0].copy()\n",
    "\n",
    "# Вывод результата\n",
    "print(df)"
   ]
  },
  {
   "cell_type": "markdown",
   "metadata": {},
   "source": [
    "Задание 56\n",
    "==="
   ]
  },
  {
   "cell_type": "code",
   "execution_count": 141,
   "metadata": {},
   "outputs": [
    {
     "name": "stdout",
     "output_type": "stream",
     "text": [
      "    0   1   2   3   4\n",
      "0   0   1   2   3   4\n",
      "1   5   6   7   8   9\n",
      "2  10  11  12  13  14\n",
      "3  15  16  17  18  19\n",
      "4  20  21  22  23  24\n",
      "\n",
      "\n",
      "\n",
      "    0   1   2   3   4\n",
      "4  20  21  22  23  24\n",
      "3  15  16  17  18  19\n",
      "2  10  11  12  13  14\n",
      "1   5   6   7   8   9\n",
      "0   0   1   2   3   4\n"
     ]
    }
   ],
   "source": [
    "# Пример входных данных\n",
    "df = pd.DataFrame(np.arange(25).reshape(5, -1))\n",
    "\n",
    "print(df)\n",
    "print('\\n\\n')\n",
    "# Перевернуть строки\n",
    "df = df[::-1]\n",
    "\n",
    "# Вывод результата\n",
    "print(df)"
   ]
  },
  {
   "cell_type": "markdown",
   "metadata": {},
   "source": [
    "Задание 57\n",
    "==="
   ]
  },
  {
   "cell_type": "code",
   "execution_count": 144,
   "metadata": {},
   "outputs": [
    {
     "name": "stdout",
     "output_type": "stream",
     "text": [
      "    a   b   c   d   e\n",
      "0   0   1   2   3   4\n",
      "1   5   6   7   8   9\n",
      "2  10  11  12  13  14\n",
      "3  15  16  17  18  19\n",
      "4  20  21  22  23  24\n",
      "   a_0  a_5  a_10  a_15  a_20   a   b   c   d   e\n",
      "0    1    0     0     0     0   0   1   2   3   4\n",
      "1    0    1     0     0     0   5   6   7   8   9\n",
      "2    0    0     1     0     0  10  11  12  13  14\n",
      "3    0    0     0     1     0  15  16  17  18  19\n",
      "4    0    0     0     0     1  20  21  22  23  24\n"
     ]
    }
   ],
   "source": [
    "# Пример входных данных\n",
    "df = pd.DataFrame(np.arange(25).reshape(5, -1), columns=list('abcde'))\n",
    "\n",
    "print(df)\n",
    "\n",
    "# Получить бинарный код для столбца 'a'\n",
    "binary_code = pd.get_dummies(df['a'], prefix='a').astype(int)\n",
    "\n",
    "# Добавить бинарный код в виде столбцов\n",
    "df = pd.concat([binary_code, df], axis=1)\n",
    "\n",
    "# Вывод результата\n",
    "print(df)"
   ]
  },
  {
   "cell_type": "markdown",
   "metadata": {},
   "source": [
    "Задание 58\n",
    "==="
   ]
  },
  {
   "cell_type": "code",
   "execution_count": 177,
   "metadata": {},
   "outputs": [
    {
     "name": "stdout",
     "output_type": "stream",
     "text": [
      "   Максимальное значение Столбец\n",
      "0                     68       A\n",
      "1                     96       B\n",
      "2                     78       B\n",
      "3                     93       A\n",
      "4                     93       B\n",
      "5                     83       C\n",
      "6                     83       B\n",
      "7                     89       A\n",
      "8                     79       C\n",
      "9                     99       D\n",
      "Столбец с наибольшим количеством максимумов: B\n"
     ]
    }
   ],
   "source": [
    "# Пример входных данных\n",
    "df = pd.DataFrame(np.random.randint(1, 100, 40).reshape(10, -1), columns=['A', 'B', 'C', 'D'])\n",
    "\n",
    "# Найти максимальное значение в каждой строке\n",
    "max_per_row = df.max(axis=1)\n",
    "\n",
    "# Найти столбец с максимальным значением в каждой строке\n",
    "column_of_max_per_row = df.idxmax(axis=1)\n",
    "\n",
    "\n",
    "\n",
    "\n",
    "\n",
    "# Вывести результат\n",
    "result_df = pd.DataFrame({'Максимальное значение': max_per_row, 'Столбец': column_of_max_per_row})\n",
    "print(result_df)\n",
    "\n",
    "# Найти столбец, в котором было наибольшее количество максимумов\n",
    "most_frequent_column = column_of_max_per_row.value_counts().idxmax()\n",
    "\n",
    "\n",
    "# Вывести имя столбца с наибольшим количеством максимумов\n",
    "print(f'Столбец с наибольшим количеством максимумов: {most_frequent_column}')"
   ]
  },
  {
   "cell_type": "markdown",
   "metadata": {},
   "source": [
    "Задание 59\n",
    "==="
   ]
  },
  {
   "cell_type": "code",
   "execution_count": 10,
   "metadata": {},
   "outputs": [
    {
     "name": "stdout",
     "output_type": "stream",
     "text": [
      "    p   q   r   s nearest_row       dist\n",
      "a  79  38  17  52           b  17.606817\n",
      "b  72  34  24  38           a  17.606817\n",
      "c  24  47  94   7           d  42.497059\n",
      "d   7  11  84  18           c  42.497059\n",
      "e  47  27  51  97           i  49.658836\n",
      "f   3  15  22  51           i  69.057947\n",
      "g  30  79   7  13           h  56.533176\n",
      "h  32  81  29  65           i  21.794495\n",
      "i  45  65  34  70           h  21.794495\n",
      "j  93  17  95  85           e  65.543878\n"
     ]
    }
   ],
   "source": [
    "import pandas as pd\n",
    "import numpy as np\n",
    "\n",
    "# Ваши входные данные\n",
    "df = pd.DataFrame(np.random.randint(1, 100, 40).reshape(10, -1), columns=list('pqrs'), index=list('abcdefghij'))\n",
    "\n",
    "# Функция для вычисления евклидова расстояния векторно\n",
    "def closest_row(row, df):\n",
    "    diffs = df.values - row.values.reshape(1, -1)  # Разности значений\n",
    "    dists = np.sqrt(np.sum(diffs**2, axis=1))  # Евклидовы расстояния\n",
    "    nearest_index = dists.argsort()[1]  # Индекс второго по минимуму элемента, то есть первого, не считая текущего\n",
    "    return (df.index[nearest_index], dists[nearest_index])\n",
    "\n",
    "# Применяем функцию к каждой строке и распаковываем результаты в новые столбцы\n",
    "df['nearest_row'], df['dist'] = zip(*df.apply(lambda row: closest_row(row, df), axis=1))\n",
    "\n",
    "print(df)\n"
   ]
  },
  {
   "cell_type": "markdown",
   "metadata": {},
   "source": [
    "Задание 60\n",
    "==="
   ]
  },
  {
   "cell_type": "code",
   "execution_count": 19,
   "metadata": {},
   "outputs": [
    {
     "name": "stdout",
     "output_type": "stream",
     "text": [
      "Максимальное абсолютное значение корреляции: 1.0\n"
     ]
    }
   ],
   "source": [
    "import pandas as pd\n",
    "import numpy as np\n",
    "\n",
    "# Создание DataFrame\n",
    "df = pd.DataFrame(np.random.randint(1, 100, 80).reshape(8, -1), columns=list('pqrstuvwxy'), index=list('abcdefgh'))\n",
    "\n",
    "# Вычисление корреляций между столбцами и выбор максимального значения\n",
    "max_corr = df.corr().abs().max().max()\n",
    "\n",
    "print(f\"Максимальное абсолютное значение корреляции: {max_corr}\")\n"
   ]
  },
  {
   "cell_type": "markdown",
   "metadata": {},
   "source": [
    "Задание 61\n",
    "==="
   ]
  },
  {
   "cell_type": "code",
   "execution_count": 21,
   "metadata": {},
   "outputs": [
    {
     "name": "stdout",
     "output_type": "stream",
     "text": [
      "    0   1   2   3   4   5   6   7   8   9\n",
      "0  30  82  14  55  90   2  89  51  82  11\n",
      "1  42  60  13  78  29   5  57  80  90  29\n",
      "2  80  84  77  40  12  72  98  95  48  29\n",
      "3  63  78  73  45  92  46   3  56  72  96\n",
      "4  32  24  71  51  48  69  91  66  95  66\n",
      "5  37  12   3  74  62  67   4  77  15  19\n",
      "6  14  40  25  79  89  35  85  43  85  72\n",
      "7  98   7  89  15  31  55  37  43  92  56\n",
      "   Минимум  Максимум\n",
      "0        2        90\n",
      "1        5        90\n",
      "2       12        98\n",
      "3        3        96\n",
      "4       24        95\n",
      "5        3        77\n",
      "6       14        89\n",
      "7        7        98\n"
     ]
    }
   ],
   "source": [
    "import pandas as pd\n",
    "import numpy as np\n",
    "\n",
    "# Создание DataFrame\n",
    "df = pd.DataFrame(np.random.randint(1, 100, 80).reshape(8, -1))\n",
    "print(df)\n",
    "# Вычисление минимума и максимума для каждой строки\n",
    "min_values = df.min(axis=1)\n",
    "max_values = df.max(axis=1)\n",
    "\n",
    "# Вывод результатов\n",
    "result_df = pd.DataFrame({'Минимум': min_values, 'Максимум': max_values})\n",
    "print(result_df)\n"
   ]
  },
  {
   "cell_type": "markdown",
   "metadata": {},
   "source": [
    "Задание 62\n",
    "==="
   ]
  },
  {
   "cell_type": "code",
   "execution_count": 22,
   "metadata": {},
   "outputs": [
    {
     "name": "stdout",
     "output_type": "stream",
     "text": [
      "    0   1   2   3   4   5   6   7   8   9  penultimate\n",
      "0  52  11  96  16   8  14  19  37  81  18           81\n",
      "1  96  93  78  32  15  35  40  19  71  41           93\n",
      "2  87   5  55   2  30  84  73  84  52  81           84\n",
      "3  26  63   5  70  33  91  73  41  82  96           91\n",
      "4  22  98  84  35  36   7   8  20  53  89           89\n",
      "5  78  64  91  36  85   4  83   9  36  48           85\n",
      "6  25  96  85  18  76  51  60  51   9  80           85\n",
      "7  19  39  55  34  42  32  67   6  88  31           67\n"
     ]
    }
   ],
   "source": [
    "import pandas as pd\n",
    "import numpy as np\n",
    "\n",
    "# Создание DataFrame\n",
    "df = pd.DataFrame(np.random.randint(1, 100, 80).reshape(8, -1))\n",
    "\n",
    "# Функция для извлечения второго по величине значения\n",
    "def second_largest(row):\n",
    "    sorted_row = sorted(row, reverse=True)\n",
    "    return sorted_row[1]\n",
    "\n",
    "# Создание нового столбца 'penultimate'\n",
    "df['penultimate'] = df.apply(second_largest, axis=1)\n",
    "\n",
    "# Вывод DataFrame с новым столбцом\n",
    "print(df)\n"
   ]
  },
  {
   "cell_type": "markdown",
   "metadata": {},
   "source": [
    "Задание 63\n",
    "==="
   ]
  },
  {
   "cell_type": "code",
   "execution_count": 23,
   "metadata": {},
   "outputs": [
    {
     "name": "stdout",
     "output_type": "stream",
     "text": [
      "Нормализованный DataFrame:\n",
      "          0         1         2         3         4         5         6  \\\n",
      "0 -0.890871 -0.621732  0.166164  0.831327 -0.894404 -0.740607 -0.935484   \n",
      "1 -0.400892 -0.329152  0.251926  1.854499 -0.325998  1.324628  1.347242   \n",
      "2 -0.311805  0.423196 -0.648575 -1.112700  1.278914 -0.334331 -1.340018   \n",
      "3 -0.890871  1.008355 -1.634837 -0.396479 -0.526612  1.527766  0.075850   \n",
      "4 -0.356348 -0.245558  0.723617  0.081001 -0.459740  0.342795  0.191431   \n",
      "5 -0.044544  0.381399 -0.605694 -1.180911  0.409587 -0.469756  1.405032   \n",
      "6  2.093546 -1.875645  1.709879  0.149213  1.613270 -1.350020 -0.704322   \n",
      "7  0.801784  1.259138  0.037521 -0.225951 -1.095018 -0.300475 -0.039731   \n",
      "\n",
      "          7         8         9  \n",
      "0 -1.288929 -1.118365  1.541935  \n",
      "1 -0.072241  1.448684 -1.012382  \n",
      "2  1.205282  0.995676 -0.358227  \n",
      "3  1.479037 -0.967362 -0.451678  \n",
      "4 -1.045592 -1.005113 -0.700880  \n",
      "5  0.201514  0.693670  0.700880  \n",
      "6 -0.711002  0.316162  1.199283  \n",
      "7  0.231931 -0.363351 -0.918931  \n",
      "\n",
      "Ранжированный DataFrame:\n",
      "          0         1         2         3         4         5         6  \\\n",
      "0  0.000000  0.400000  0.538462  0.662921  0.074074  0.211765  0.147368   \n",
      "1  0.164179  0.493333  0.564103  1.000000  0.283951  0.929412  0.978947   \n",
      "2  0.194030  0.733333  0.294872  0.022472  0.876543  0.352941  0.000000   \n",
      "3  0.000000  0.920000  0.000000  0.258427  0.209877  1.000000  0.515789   \n",
      "4  0.179104  0.520000  0.705128  0.415730  0.234568  0.588235  0.557895   \n",
      "5  0.283582  0.720000  0.307692  0.000000  0.555556  0.305882  1.000000   \n",
      "6  1.000000  0.000000  1.000000  0.438202  1.000000  0.000000  0.231579   \n",
      "7  0.567164  1.000000  0.500000  0.314607  0.000000  0.364706  0.473684   \n",
      "\n",
      "          7         8         9  \n",
      "0  0.000000  0.000000  1.000000  \n",
      "1  0.439560  1.000000  0.000000  \n",
      "2  0.901099  0.823529  0.256098  \n",
      "3  1.000000  0.058824  0.219512  \n",
      "4  0.087912  0.044118  0.121951  \n",
      "5  0.538462  0.705882  0.670732  \n",
      "6  0.208791  0.558824  0.865854  \n",
      "7  0.549451  0.294118  0.036585  \n"
     ]
    }
   ],
   "source": [
    "import pandas as pd\n",
    "import numpy as np\n",
    "\n",
    "# Создание DataFrame\n",
    "df = pd.DataFrame(np.random.randint(1, 100, 80).reshape(8, -1))\n",
    "\n",
    "# 1. Нормализация\n",
    "normalized_df = (df - df.mean()) / df.std()\n",
    "\n",
    "# 2. Ранжирование\n",
    "ranked_df = (df - df.min()) / (df.max() - df.min())\n",
    "\n",
    "# Вывод результатов\n",
    "print(\"Нормализованный DataFrame:\")\n",
    "print(normalized_df)\n",
    "\n",
    "print(\"\\nРанжированный DataFrame:\")\n",
    "print(ranked_df)\n"
   ]
  },
  {
   "cell_type": "markdown",
   "metadata": {},
   "source": [
    "Задание 64\n",
    "==="
   ]
  },
  {
   "cell_type": "code",
   "execution_count": 25,
   "metadata": {},
   "outputs": [
    {
     "name": "stdout",
     "output_type": "stream",
     "text": [
      "    0   1   2   3   4   5   6   7   8   9\n",
      "0  31  98  95  25  28  61  88  23  50   9\n",
      "1  22   3  64  39  32  14  97  57   4  86\n",
      "2   7   1  46  11  62  26  16  61  67  83\n",
      "3  20  60  32  37   2  24  96   2  11  16\n",
      "4  53  66  40  71  60  89  34  49  60  23\n",
      "5  82  48  31  92  42  63  60  90  17  26\n",
      "6   2  30  98  64  86  92  69  74  62  66\n",
      "7   3  96  14   4  50   7  20  94  28  84\n",
      "Корреляция с последующей строкой:\n",
      "0    0.137807\n",
      "1   -0.203592\n",
      "2   -0.303676\n",
      "3    0.313959\n",
      "4   -0.305963\n",
      "5   -0.084960\n",
      "6   -0.520538\n",
      "7    0.237288\n",
      "8   -0.916438\n",
      "9    0.081589\n",
      "dtype: float64\n"
     ]
    }
   ],
   "source": [
    "import pandas as pd\n",
    "import numpy as np\n",
    "\n",
    "# Создание DataFrame\n",
    "df = pd.DataFrame(np.random.randint(1, 100, 80).reshape(8, -1))\n",
    "print(df)\n",
    "# Вычисление корреляции каждой строки с последующей строкой\n",
    "correlation_with_next_row = df.corrwith(df.shift(-1))\n",
    "\n",
    "# Вывод результатов\n",
    "print(\"Корреляция с последующей строкой:\")\n",
    "print(correlation_with_next_row)\n"
   ]
  },
  {
   "cell_type": "markdown",
   "metadata": {},
   "source": [
    "Задание 65\n",
    "==="
   ]
  },
  {
   "cell_type": "code",
   "execution_count": 27,
   "metadata": {},
   "outputs": [
    {
     "name": "stdout",
     "output_type": "stream",
     "text": [
      "    0   1   2   3   4   5   6   7   8   9\n",
      "0  56  28  82  64  81  54  15  67  49  78\n",
      "1  25  99  58  43  38  72  70  24  22  74\n",
      "2  64   4  20   9  61  42  59  11   3  47\n",
      "3   8  46   2  73  19  11  92  27  69  69\n",
      "4  52  43  77  54  78  52  85  91  97  11\n",
      "5  78  97  74  49   2  53  12  88  44  65\n",
      "6  74  21  74  34  21  17  28  86  41   7\n",
      "7   9  25  99  85  55  71  34   7  43  76\n",
      "8  98  66  11  49  98  42  53  46   8  80\n",
      "9  93  83  27  93  85   4  38  81   5  70\n",
      "    0   1   2   3   4   5   6   7   8   9\n",
      "0   0  28  82  64  81  54  15  67  49   0\n",
      "1  25   0  58  43  38  72  70  24   0  74\n",
      "2  64   4   0   9  61  42  59   0   3  47\n",
      "3   8  46   2   0  19  11   0  27  69  69\n",
      "4  52  43  77  54   0   0  85  91  97  11\n",
      "5  78  97  74  49   0   0  12  88  44  65\n",
      "6  74  21  74   0  21  17   0  86  41   7\n",
      "7   9  25   0  85  55  71  34   0  43  76\n",
      "8  98   0  11  49  98  42  53  46   0  80\n",
      "9   0  83  27  93  85   4  38  81   5   0\n"
     ]
    }
   ],
   "source": [
    "import pandas as pd\n",
    "import numpy as np\n",
    "\n",
    "# Создание DataFrame\n",
    "df = pd.DataFrame(np.random.randint(1, 100, 100).reshape(10, -1))\n",
    "print(df)\n",
    "# Замена значений в обеих диагоналях на 0\n",
    "for i in range(df.shape[0]):\n",
    "    df.iat[i, i] = 0\n",
    "    df.iat[i, df.shape[1] - i - 1] = 0\n",
    "\n",
    "# Вывод DataFrame после замены\n",
    "print(df)\n"
   ]
  },
  {
   "cell_type": "markdown",
   "metadata": {},
   "source": [
    "Задание 66\n",
    "==="
   ]
  },
  {
   "cell_type": "code",
   "execution_count": 29,
   "metadata": {},
   "outputs": [
    {
     "name": "stdout",
     "output_type": "stream",
     "text": [
      "     col1      col2  col3\n",
      "0   apple  0.197292     1\n",
      "1  banana  0.914707    14\n",
      "2  orange  0.573045    12\n",
      "3   apple  0.637225    14\n",
      "4  banana  0.571046    14\n",
      "5  orange  0.047268     5\n",
      "6   apple  0.803998    11\n",
      "7  banana  0.457111     9\n",
      "8  orange  0.423486    14\n",
      "    col1      col2  col3\n",
      "0  apple  0.197292     1\n",
      "3  apple  0.637225    14\n",
      "6  apple  0.803998    11\n"
     ]
    }
   ],
   "source": [
    "import pandas as pd\n",
    "import numpy as np\n",
    "\n",
    "# Создание DataFrame\n",
    "df = pd.DataFrame({'col1': ['apple', 'banana', 'orange'] * 3,\n",
    "                   'col2': np.random.rand(9),\n",
    "                   'col3': np.random.randint(0, 15, 9)})\n",
    "\n",
    "print(df)\n",
    "# Группировка DataFrame по 'col1'\n",
    "df_grouped = df.groupby(['col1'])\n",
    "\n",
    "# Получение группы, относящейся к 'apple'\n",
    "apple_group = df_grouped.get_group('apple')\n",
    "\n",
    "# Вывод результата\n",
    "print(apple_group)\n"
   ]
  },
  {
   "cell_type": "markdown",
   "metadata": {},
   "source": [
    "Задание 67\n",
    "==="
   ]
  },
  {
   "cell_type": "code",
   "execution_count": 31,
   "metadata": {},
   "outputs": [
    {
     "name": "stdout",
     "output_type": "stream",
     "text": [
      "    fruit    rating  price\n",
      "0   apple  0.156705     11\n",
      "1  banana  0.348884     10\n",
      "2  orange  0.357151      1\n",
      "3   apple  0.740019      4\n",
      "4  banana  0.997060     14\n",
      "5  orange  0.699761      9\n",
      "6   apple  0.849897      1\n",
      "7  banana  0.910785      9\n",
      "8  orange  0.355910      7\n",
      "Второе по величине значение 'taste' для 'banana': 0.9107850246419211\n"
     ]
    }
   ],
   "source": [
    "import pandas as pd\n",
    "import numpy as np\n",
    "\n",
    "# Создание DataFrame\n",
    "df = pd.DataFrame({'fruit': ['apple', 'banana', 'orange'] * 3,\n",
    "                   'rating': np.random.rand(9),\n",
    "                   'price': np.random.randint(0, 15, 9)})\n",
    "\n",
    "print(df)\n",
    "\n",
    "# Выбор только строк, относящихся к 'banana'\n",
    "banana_rows = df[df['fruit'] == 'banana']\n",
    "\n",
    "# Нахождение второго по величине значения 'rating' для 'banana'\n",
    "second_highest_rating = banana_rows['rating'].sort_values(ascending=False).unique()[1]\n",
    "\n",
    "# Вывод результата\n",
    "print(\"Второе по величине значение 'taste' для 'banana':\", second_highest_rating)\n"
   ]
  },
  {
   "cell_type": "markdown",
   "metadata": {},
   "source": [
    "Задание 68\n",
    "==="
   ]
  },
  {
   "cell_type": "code",
   "execution_count": 33,
   "metadata": {},
   "outputs": [
    {
     "name": "stdout",
     "output_type": "stream",
     "text": [
      "    fruit    rating  price\n",
      "0   apple  0.092506     14\n",
      "1  banana  0.332168      5\n",
      "2  orange  0.327661     13\n",
      "3   apple  0.166821      9\n",
      "4  banana  0.579954     11\n",
      "5  orange  0.176835      6\n",
      "6   apple  0.337490      9\n",
      "7  banana  0.200774      2\n",
      "8  orange  0.733856      8\n",
      "    fruit      price\n",
      "0   apple  10.666667\n",
      "1  banana   6.000000\n",
      "2  orange   9.000000\n"
     ]
    }
   ],
   "source": [
    "import pandas as pd\n",
    "import numpy as np\n",
    "\n",
    "# Создание DataFrame\n",
    "df = pd.DataFrame({'fruit': ['apple', 'banana', 'orange'] * 3,\n",
    "                   'rating': np.random.rand(9),\n",
    "                   'price': np.random.randint(0, 15, 9)})\n",
    "\n",
    "print(df)\n",
    "\n",
    "# Группировка по столбцу 'fruit' и вычисление средней цены\n",
    "result_df = df.groupby('fruit').agg({'price': 'mean'}).reset_index()\n",
    "\n",
    "# Вывод результата\n",
    "print(result_df)\n"
   ]
  },
  {
   "cell_type": "markdown",
   "metadata": {},
   "source": [
    "Задание 69\n",
    "==="
   ]
  },
  {
   "cell_type": "code",
   "execution_count": 34,
   "metadata": {},
   "outputs": [
    {
     "name": "stdout",
     "output_type": "stream",
     "text": [
      "    fruit  weight  price\n",
      "0   apple    high     10\n",
      "1  banana  medium      0\n",
      "2  orange     low      3\n",
      "3   apple    high     12\n",
      "4  banana  medium      8\n",
      "5  orange     low      4\n",
      "6   apple    high      0\n",
      "7  banana  medium      6\n",
      "8  orange     low      4\n",
      "   pazham  kilo  price\n",
      "0   apple  high      4\n",
      "1  orange   low     13\n",
      "2    pine  high      1\n",
      "3   apple   low      1\n",
      "4  orange  high     12\n",
      "5    pine   low      8\n",
      "    fruit weight  price_x  price_y\n",
      "0   apple   high       10        4\n",
      "1   apple   high       12        4\n",
      "2   apple   high        0        4\n",
      "3  orange    low        3       13\n",
      "4  orange    low        4       13\n",
      "5  orange    low        4       13\n"
     ]
    }
   ],
   "source": [
    "import pandas as pd\n",
    "import numpy as np\n",
    "\n",
    "# Создание DataFrame df1\n",
    "df1 = pd.DataFrame({'fruit': ['apple', 'banana', 'orange'] * 3,\n",
    "                    'weight': ['high', 'medium', 'low'] * 3,\n",
    "                    'price': np.random.randint(0, 15, 9)})\n",
    "\n",
    "print(df1)  \n",
    "\n",
    "# Создание DataFrame df2\n",
    "df2 = pd.DataFrame({'pazham': ['apple', 'orange', 'pine'] * 2,\n",
    "                    'kilo': ['high', 'low'] * 3,\n",
    "                    'price': np.random.randint(0, 15, 6)})\n",
    "\n",
    "print(df2)\n",
    "\n",
    "# Объединение по признакам 'fruit-pazham' и 'weight-kilo'\n",
    "merged_df = pd.merge(df1, df2, left_on=['fruit', 'weight'], right_on=['pazham', 'kilo'], how='inner')\n",
    "\n",
    "# Удаление лишних столбцов\n",
    "merged_df = merged_df.drop(['pazham', 'kilo'], axis=1)\n",
    "\n",
    "# Вывод результата\n",
    "print(merged_df)\n"
   ]
  },
  {
   "cell_type": "markdown",
   "metadata": {},
   "source": [
    "Задание 70\n",
    "==="
   ]
  },
  {
   "cell_type": "code",
   "execution_count": 36,
   "metadata": {},
   "outputs": [
    {
     "name": "stdout",
     "output_type": "stream",
     "text": [
      "    a   b   c   d\n",
      "0  38  74  53  15\n",
      "1  68  96   6  44\n",
      "2  39  43  23  44\n",
      "3   4  97  40  34\n",
      "4  38  91  39  83\n",
      "    a   b   c   d  a_lag1  b_lead1\n",
      "0  38  74  53  15     NaN     96.0\n",
      "1  68  96   6  44    38.0     43.0\n",
      "2  39  43  23  44    68.0     97.0\n",
      "3   4  97  40  34    39.0     91.0\n",
      "4  38  91  39  83     4.0      NaN\n"
     ]
    }
   ],
   "source": [
    "import pandas as pd\n",
    "import numpy as np\n",
    "\n",
    "# Создание DataFrame\n",
    "df = pd.DataFrame(np.random.randint(1, 100, 20).reshape(-1, 4), columns=list('abcd'))\n",
    "\n",
    "print(df)\n",
    "# Создание столбца 'a_lag1' (сдвиг столбца 'a' вниз на 1 строку)\n",
    "df['a_lag1'] = df['a'].shift(1)\n",
    "\n",
    "# Создание столбца 'b_lead1' (сдвиг столбца 'b' вверх на 1 строку)\n",
    "df['b_lead1'] = df['b'].shift(-1)\n",
    "\n",
    "# Вывод результата\n",
    "print(df)\n"
   ]
  },
  {
   "cell_type": "markdown",
   "metadata": {},
   "source": [
    "Задание 71\n",
    "==="
   ]
  },
  {
   "cell_type": "code",
   "execution_count": 38,
   "metadata": {},
   "outputs": [
    {
     "name": "stdout",
     "output_type": "stream",
     "text": [
      "   a  b  c  d\n",
      "0  5  4  8  7\n",
      "1  1  5  2  6\n",
      "2  1  8  8  5\n",
      "3  2  1  6  2\n",
      "4  2  4  1  9\n",
      "   a  b  c  d\n",
      "1  2  1  1  0\n",
      "2  2  0  1  1\n",
      "4  0  2  0  0\n",
      "5  1  1  0  1\n",
      "6  0  0  1  1\n",
      "7  0  0  0  1\n",
      "8  0  1  2  0\n",
      "9  0  0  0  1\n"
     ]
    },
    {
     "name": "stderr",
     "output_type": "stream",
     "text": [
      "C:\\Users\\oleg9\\AppData\\Local\\Temp\\ipykernel_16052\\1487785812.py:9: FutureWarning: pandas.value_counts is deprecated and will be removed in a future version. Use pd.Series(obj).value_counts() instead.\n",
      "  unique_value_counts = df.apply(pd.value_counts).fillna(0).astype(int)\n"
     ]
    }
   ],
   "source": [
    "import pandas as pd\n",
    "import numpy as np\n",
    "\n",
    "# Создание DataFrame\n",
    "df = pd.DataFrame(np.random.randint(1, 10, 20).reshape(-1, 4), columns=list('abcd'))\n",
    "\n",
    "print(df)\n",
    "# Получение частот уникальных значений по всему DataFrame\n",
    "unique_value_counts = df.apply(pd.value_counts).fillna(0).astype(int)\n",
    "\n",
    "# Вывод результата\n",
    "print(unique_value_counts)\n"
   ]
  },
  {
   "cell_type": "markdown",
   "metadata": {},
   "source": [
    "Задание 72\n",
    "==="
   ]
  },
  {
   "cell_type": "code",
   "execution_count": 39,
   "metadata": {},
   "outputs": [
    {
     "name": "stdout",
     "output_type": "stream",
     "text": [
      "   STD        City        State\n",
      "0  STD        City        State\n",
      "1   33     Kolkata  West Bengal\n",
      "2   44     Chennai   Tamil Nadu\n",
      "3   40   Hyderabad    Telengana\n",
      "4   80   Bangalore    Karnataka\n"
     ]
    }
   ],
   "source": [
    "import pandas as pd\n",
    "\n",
    "# Создание DataFrame\n",
    "df = pd.DataFrame([\"STD, City\\tState\",\n",
    "                   \"33, Kolkata\\tWest Bengal\",\n",
    "                   \"44, Chennai\\tTamil Nadu\",\n",
    "                   \"40, Hyderabad\\tTelengana\",\n",
    "                   \"80, Bangalore\\tKarnataka\"], columns=['row'])\n",
    "\n",
    "# Разделение столбца 'row' на несколько столбцов\n",
    "df = df['row'].str.split(',|\\t', expand=True)\n",
    "\n",
    "# Переименование столбцов\n",
    "df.columns = [\"STD\", \"City\", \"State\"]\n",
    "\n",
    "# Вывод результата\n",
    "print(df)\n"
   ]
  },
  {
   "cell_type": "code",
   "execution_count": null,
   "metadata": {},
   "outputs": [],
   "source": []
  }
 ],
 "metadata": {
  "kernelspec": {
   "display_name": "Python 3",
   "language": "python",
   "name": "python3"
  },
  "language_info": {
   "codemirror_mode": {
    "name": "ipython",
    "version": 3
   },
   "file_extension": ".py",
   "mimetype": "text/x-python",
   "name": "python",
   "nbconvert_exporter": "python",
   "pygments_lexer": "ipython3",
   "version": "3.11.6"
  }
 },
 "nbformat": 4,
 "nbformat_minor": 2
}
